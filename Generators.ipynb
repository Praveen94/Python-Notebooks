{
 "cells": [
  {
   "cell_type": "markdown",
   "metadata": {},
   "source": [
    "<h3>Generators</h3>\n",
    "<p>As an analogy a generator is something that doesn't stop but runs continously upto a certain point.</p>\n",
    "<p><strong>Generators allow us to generate as we go along, instead of holding everything in memory.</strong>  Eg. Storing in large lists which wastes memory.</p>\n",
    "<p>Generator functions allow us to write a function that can send back a value and then later resume to pick up where it left off. i.e. It continues to generate values in a cycle.This type of function is a generator in Python, allowing us to generate a sequence of values over time. The main difference in syntax will be the use of a yield statement.</p>\n",
    "<p>In most aspects, a generator function will appear very similar to a normal function. The main difference is <strong>when a generator function is compiled they become an object that supports an iteration protocol.</strong> That means when they are called in your code they don't actually return a value and then exit. Instead, <strong>generator functions will automatically suspend and may return a value and then resume their execution and state around the last point of value generation.</strong> The main advantage here is that <strong>instead of having to compute an entire series of values up front, the generator computes one value and then suspends its activity awaiting the next instruction. This feature is known as state suspension.</strong></p>"
   ]
  },
  {
   "cell_type": "code",
   "execution_count": 1,
   "metadata": {
    "collapsed": true
   },
   "outputs": [],
   "source": [
    "def gencubes(n):\n",
    "    for num in range(n):\n",
    "        yield num**3\n"
   ]
  },
  {
   "cell_type": "code",
   "execution_count": 7,
   "metadata": {},
   "outputs": [
    {
     "name": "stdout",
     "output_type": "stream",
     "text": [
      "0\n",
      "1\n",
      "8\n",
      "27\n",
      "64\n"
     ]
    },
    {
     "data": {
      "text/plain": [
       "generator"
      ]
     },
     "execution_count": 7,
     "metadata": {},
     "output_type": "execute_result"
    }
   ],
   "source": [
    "cubes=gencubes(5) # returns an object supporting iteration protocol.\n",
    "print(next(cubes))\n",
    "print(next(cubes))\n",
    "print(next(cubes))\n",
    "print(next(cubes))\n",
    "print(next(cubes))\n",
    "type(cubes)"
   ]
  },
  {
   "cell_type": "code",
   "execution_count": 3,
   "metadata": {},
   "outputs": [
    {
     "name": "stdout",
     "output_type": "stream",
     "text": [
      "0\n",
      "1\n",
      "2\n",
      "3\n",
      "4\n",
      "5\n",
      "6\n",
      "7\n",
      "8\n",
      "9\n"
     ]
    },
    {
     "data": {
      "text/plain": [
       "generator"
      ]
     },
     "execution_count": 3,
     "metadata": {},
     "output_type": "execute_result"
    }
   ],
   "source": [
    "g=(num for num in range(10))\n",
    "for num in g:\n",
    "    print(num)\n",
    "type(g)"
   ]
  },
  {
   "cell_type": "markdown",
   "metadata": {
    "collapsed": true
   },
   "source": [
    "Observe that a generator object is generated once, but its code is not run all at once. Only calls to next actually execute (part of) the code. Execution of the code in a generator stops once a yield statement has been reached, upon which it returns a value. The next call to next then causes execution to continue in the state in which the generator was left after the last yield. This is a fundamental difference with regular functions: those always start execution at the \"top\" and discard their state upon returning a value.\n",
    "\n",
    "For more info about generators refer: https://stackoverflow.com/questions/1756096/understanding-generators-in-python"
   ]
  },
  {
   "cell_type": "code",
   "execution_count": 5,
   "metadata": {},
   "outputs": [
    {
     "ename": "TypeError",
     "evalue": "'str' object is not an iterator",
     "output_type": "error",
     "traceback": [
      "\u001b[0;31m---------------------------------------------------------------------------\u001b[0m",
      "\u001b[0;31mTypeError\u001b[0m                                 Traceback (most recent call last)",
      "\u001b[0;32m<ipython-input-5-8bcd471b7f45>\u001b[0m in \u001b[0;36m<module>\u001b[0;34m()\u001b[0m\n\u001b[1;32m      1\u001b[0m \u001b[0ms\u001b[0m\u001b[0;34m=\u001b[0m\u001b[0;34m\"Hello\"\u001b[0m \u001b[0;31m# Remember a string is iterable but not an iterator object\u001b[0m\u001b[0;34m\u001b[0m\u001b[0m\n\u001b[0;32m----> 2\u001b[0;31m \u001b[0mnext\u001b[0m\u001b[0;34m(\u001b[0m\u001b[0ms\u001b[0m\u001b[0;34m)\u001b[0m\u001b[0;34m\u001b[0m\u001b[0m\n\u001b[0m",
      "\u001b[0;31mTypeError\u001b[0m: 'str' object is not an iterator"
     ]
    }
   ],
   "source": [
    "s=\"Hello\" # Remember a string is iterable but not an iterator object\n",
    "next(s)"
   ]
  },
  {
   "cell_type": "code",
   "execution_count": 12,
   "metadata": {},
   "outputs": [
    {
     "name": "stdout",
     "output_type": "stream",
     "text": [
      "H\n",
      "e\n",
      "l\n",
      "l\n",
      "o\n"
     ]
    }
   ],
   "source": [
    "str_iter=iter(s) # Returns an iterator object which can then be used to iterate over.\n",
    "print(next(str_iter))\n",
    "print(next(str_iter))\n",
    "print(next(str_iter))\n",
    "print(next(str_iter))\n",
    "print(next(str_iter))"
   ]
  },
  {
   "cell_type": "code",
   "execution_count": 5,
   "metadata": {},
   "outputs": [
    {
     "name": "stdout",
     "output_type": "stream",
     "text": [
      "I\n",
      " \n",
      "l\n",
      "o\n",
      "v\n",
      "e\n",
      " \n",
      "m\n",
      "y\n",
      " \n",
      "F\n",
      "a\n",
      "t\n",
      "h\n",
      "e\n",
      "r\n",
      ",\n",
      "m\n",
      "y\n",
      " \n",
      "M\n",
      "o\n",
      "t\n",
      "h\n",
      "e\n",
      "r\n",
      " \n",
      "a\n",
      "n\n",
      "d\n",
      " \n",
      "m\n",
      "y\n",
      " \n",
      "B\n",
      "r\n",
      "o\n",
      "t\n",
      "h\n",
      "e\n",
      "r\n"
     ]
    }
   ],
   "source": [
    "def string_generator():\n",
    "    s=\"I love my Father,my Mother and my Brother\"\n",
    "    for letter in s:\n",
    "        yield letter\n",
    "for letter in string_generator():\n",
    "    print(letter)"
   ]
  },
  {
   "cell_type": "code",
   "execution_count": null,
   "metadata": {
    "collapsed": true
   },
   "outputs": [],
   "source": []
  }
 ],
 "metadata": {
  "kernelspec": {
   "display_name": "Python 3",
   "language": "python",
   "name": "python3"
  },
  "language_info": {
   "codemirror_mode": {
    "name": "ipython",
    "version": 3
   },
   "file_extension": ".py",
   "mimetype": "text/x-python",
   "name": "python",
   "nbconvert_exporter": "python",
   "pygments_lexer": "ipython3",
   "version": "3.6.3"
  }
 },
 "nbformat": 4,
 "nbformat_minor": 2
}
