{
 "cells": [
  {
   "cell_type": "code",
   "execution_count": 11,
   "metadata": {},
   "outputs": [
    {
     "name": "stdout",
     "output_type": "stream",
     "text": [
      "Error: Could not find file or read data\n"
     ]
    }
   ],
   "source": [
    "f=open('sample.txt','r')\n",
    "try:\n",
    "    f.write(\"This is beautiful\")\n",
    "\n",
    "except:\n",
    "     print(\"Error: Could not find file or read data\")\n",
    "\n",
    "else:\n",
    "    print(\"Content written successfully\")\n",
    "    f.close()"
   ]
  },
  {
   "cell_type": "markdown",
   "metadata": {},
   "source": [
    "So why did our function print \"Finally, I executed!\" after each trial, yet it never printed val itself? This is because with a try/except/finally clause, any continue or break statements are reserved until after the try clause is completed. This means that even though a successful input of 3 brought us to the else: block, and a break statement was thrown, the try clause continued through to finally: before breaking out of the while loop. And since print(val) was outside the try clause, the break statement prevented it from running."
   ]
  },
  {
   "cell_type": "code",
   "execution_count": null,
   "metadata": {},
   "outputs": [],
   "source": [
    "while True:\n",
    "    try:\n",
    "        num=int(input(\"Enter a number:\"))\n",
    "    except:\n",
    "        print(\"Perhaps you didn't enter a number\")\n",
    "        continue\n",
    "    else:\n",
    "        print(\"You entered a number:\"+str(num))\n",
    "        break\n",
    "    finally:\n",
    "        print(\"Finally executed\")\n",
    "    print(num)                    # Since print(val) was outside the try clause, \n",
    "                                  # the break statement prevented it from running."
   ]
  },
  {
   "cell_type": "code",
   "execution_count": null,
   "metadata": {
    "collapsed": true
   },
   "outputs": [],
   "source": []
  }
 ],
 "metadata": {
  "kernelspec": {
   "display_name": "Python 3",
   "language": "python",
   "name": "python3"
  },
  "language_info": {
   "codemirror_mode": {
    "name": "ipython",
    "version": 3
   },
   "file_extension": ".py",
   "mimetype": "text/x-python",
   "name": "python",
   "nbconvert_exporter": "python",
   "pygments_lexer": "ipython3",
   "version": "3.6.3"
  }
 },
 "nbformat": 4,
 "nbformat_minor": 2
}
