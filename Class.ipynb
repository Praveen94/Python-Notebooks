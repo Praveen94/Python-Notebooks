{
 "cells": [
  {
   "cell_type": "markdown",
   "metadata": {},
   "source": [
    "<h4><u>class</u></h4>\n",
    "<p>\n",
    "User defined objects are created using the class keyword. The class is a blueprint that defines the nature of a future object. From classes we can construct instances. <b>An instance is a specific object created from a particular class.</b> For example, above we created the object <code>lst</code> which was an instance of a list object.</p>"
   ]
  },
  {
   "cell_type": "markdown",
   "metadata": {},
   "source": [
    "<h3><u>Attributes</u></h3>\n",
    "<p>The syntax for creating an attribute is:\n",
    "\n",
    "self.attribute = something\n",
    "\n",
    "There is a special method called:\n",
    "\n",
    "<b><code>__init__()</code></b>\n",
    "\n",
    "This method is used to initialize the attributes of an object.</p>"
   ]
  },
  {
   "cell_type": "code",
   "execution_count": 3,
   "metadata": {},
   "outputs": [
    {
     "name": "stdout",
     "output_type": "stream",
     "text": [
      "Honda\n"
     ]
    }
   ],
   "source": [
    "class Car:\n",
    "    def __init__(self,company):\n",
    "        self.manufacture=company # self is where the individual object attribute value is assigned\n",
    "honda=Car(\"Honda\")              # here manufacture is an attribute of the object\n",
    "print(honda.manufacture)"
   ]
  },
  {
   "cell_type": "code",
   "execution_count": 4,
   "metadata": {},
   "outputs": [
    {
     "name": "stdout",
     "output_type": "stream",
     "text": [
      "Mammal\n",
      "Labrador\n"
     ]
    }
   ],
   "source": [
    "class Dog:\n",
    "    \"\"\"\n",
    "    Class Object Attribute\n",
    "    \"\"\"\n",
    "    species=\"Mammal\"\n",
    "    def __init__(self,breed):\n",
    "        self.breed=breed\n",
    "lab=Dog(\"Labrador\")\n",
    "print(f\"{lab.species}\")\n",
    "print(f\"{lab.breed}\")"
   ]
  },
  {
   "cell_type": "code",
   "execution_count": 14,
   "metadata": {},
   "outputs": [
    {
     "name": "stdout",
     "output_type": "stream",
     "text": [
      "Golden\n"
     ]
    }
   ],
   "source": [
    "mydog=Dog(\"Labrador\")\n",
    "mydog.breed=\"Golden\"\n",
    "print(mydog.breed)"
   ]
  },
  {
   "cell_type": "markdown",
   "metadata": {},
   "source": [
    "<h3><u>Methods:</u></h3>\n",
    "<p>\n",
    "Methods are functions defined inside the body of a class. <b>They are used to perform operations with the attributes of our objects.</b> Methods are a key concept of the OOP paradigm. They are essential to dividing responsibilities in programming, especially in large applications.\n",
    "\n",
    "You can basically think of methods as functions acting on an Object that take the Object itself into account through its self argument.</p>"
   ]
  },
  {
   "cell_type": "code",
   "execution_count": 1,
   "metadata": {},
   "outputs": [
    {
     "name": "stdout",
     "output_type": "stream",
     "text": [
      "1100000\n",
      "\n",
      "1002000\n"
     ]
    }
   ],
   "source": [
    "class Car:\n",
    "    cost=1000000\n",
    "    def __init__(self,extra_cost=100000):\n",
    "        self.totalCost=extra_cost+Car.cost\n",
    "    \n",
    "    def addCost(self,extra_cost):\n",
    "        self.totalCost=extra_cost+self.cost\n",
    "    def getTotalCost(self):\n",
    "        return self.totalCost\n",
    "\n",
    "mycar=Car()\n",
    "# print(mycar.getTotalCost())\n",
    "print(mycar.totalCost)\n",
    "mycar.addCost(2000)\n",
    "print()\n",
    "print(mycar.getTotalCost())"
   ]
  },
  {
   "cell_type": "code",
   "execution_count": 3,
   "metadata": {},
   "outputs": [
    {
     "name": "stdout",
     "output_type": "stream",
     "text": [
      "Radius is:  1\n",
      "Area is:  3.14\n",
      "Circumference is:  6.28\n"
     ]
    }
   ],
   "source": [
    "class Circle:\n",
    "\n",
    "    pi = 3.14 # Class Object Attribute\n",
    "\n",
    "    # Circle gets instantiated with a radius (default is 1)\n",
    "    def __init__(self, radius=1):\n",
    "        self.radius = radius \n",
    "        self.area = radius * radius * Circle.pi\n",
    "\n",
    "    # Method for resetting Radius\n",
    "    def setRadius(self, new_radius):\n",
    "        self.radius = new_radius\n",
    "        self.area = new_radius * new_radius * self.pi\n",
    "\n",
    "    # Method for getting Circumference\n",
    "#     def getCircumference(Circle): # WhereEver we are performing operations on the object \n",
    "#           return Circle.pi * 2    # attribute we should pass the reference of the instance \n",
    "                                  # of the class as self\n",
    "    def getCircumference(self):\n",
    "        return self.radius * self.pi * 2\n",
    "             \n",
    "\n",
    "\n",
    "c=Circle()\n",
    "print('Radius is: ',c.radius)\n",
    "print('Area is: ',c.area)\n",
    "print('Circumference is: ',c.getCircumference())"
   ]
  },
  {
   "cell_type": "code",
   "execution_count": 18,
   "metadata": {},
   "outputs": [
    {
     "ename": "TypeError",
     "evalue": "__init__() takes 0 positional arguments but 1 was given",
     "output_type": "error",
     "traceback": [
      "\u001b[0;31m---------------------------------------------------------------------------\u001b[0m",
      "\u001b[0;31mTypeError\u001b[0m                                 Traceback (most recent call last)",
      "\u001b[0;32m<ipython-input-18-947b1db8ecbd>\u001b[0m in \u001b[0;36m<module>\u001b[0;34m()\u001b[0m\n\u001b[1;32m      2\u001b[0m     \u001b[0;32mdef\u001b[0m \u001b[0m__init__\u001b[0m\u001b[0;34m(\u001b[0m\u001b[0;34m)\u001b[0m\u001b[0;34m:\u001b[0m\u001b[0;34m\u001b[0m\u001b[0m\n\u001b[1;32m      3\u001b[0m         \u001b[0mprint\u001b[0m\u001b[0;34m(\u001b[0m\u001b[0;34m\"My favorite Jam\"\u001b[0m\u001b[0;34m)\u001b[0m\u001b[0;34m\u001b[0m\u001b[0m\n\u001b[0;32m----> 4\u001b[0;31m \u001b[0mprint\u001b[0m\u001b[0;34m(\u001b[0m\u001b[0mJam\u001b[0m\u001b[0;34m(\u001b[0m\u001b[0;34m)\u001b[0m\u001b[0;34m)\u001b[0m\u001b[0;34m\u001b[0m\u001b[0m\n\u001b[0m\u001b[1;32m      5\u001b[0m \u001b[0;34m\u001b[0m\u001b[0m\n\u001b[1;32m      6\u001b[0m \u001b[0;31m# TypeError: __init__() takes 0 positional arguments but 1 ( the Jam() instance ) was given\u001b[0m\u001b[0;34m\u001b[0m\u001b[0;34m\u001b[0m\u001b[0m\n",
      "\u001b[0;31mTypeError\u001b[0m: __init__() takes 0 positional arguments but 1 was given"
     ]
    }
   ],
   "source": [
    "class Jam:\n",
    "    def __init__():\n",
    "        print(\"My favorite Jam\")\n",
    "print(Jam())\n",
    "\n",
    "# TypeError: __init__() takes 0 positional arguments but 1 ( the Jam() instance ) was given"
   ]
  },
  {
   "cell_type": "code",
   "execution_count": 16,
   "metadata": {},
   "outputs": [
    {
     "name": "stdout",
     "output_type": "stream",
     "text": [
      "My favorite Jam\n"
     ]
    },
    {
     "data": {
      "text/plain": [
       "<__main__.Jam at 0x7fb15c19ef98>"
      ]
     },
     "execution_count": 16,
     "metadata": {},
     "output_type": "execute_result"
    }
   ],
   "source": [
    "class Jam:\n",
    "    def __init__(self):\n",
    "        print(\"My favorite Jam\")\n",
    "Jam()"
   ]
  },
  {
   "cell_type": "markdown",
   "metadata": {},
   "source": [
    "<h3>Inheritance</h3>\n",
    "<p>\n",
    "Inheritance is a way to form new classes using classes that have already been defined. The newly formed classes are called derived classes, the classes that we derive from are called base classes. Important benefits of inheritance are code reuse and reduction of complexity of a program. The derived classes (descendants) <b>override or extend</b> the functionality of base classes (ancestors).</p>"
   ]
  },
  {
   "cell_type": "code",
   "execution_count": 35,
   "metadata": {},
   "outputs": [
    {
     "name": "stdout",
     "output_type": "stream",
     "text": [
      "Car created\n",
      "My Car Created\n",
      "Honking\n",
      "Car\n",
      "Stopping my car..\n"
     ]
    },
    {
     "data": {
      "text/plain": [
       "'Car'"
      ]
     },
     "execution_count": 35,
     "metadata": {},
     "output_type": "execute_result"
    }
   ],
   "source": [
    "class Car:\n",
    "    def __init__(self):\n",
    "        self.carname=\"Car\"\n",
    "        print(\"Car created\")\n",
    "    def honk(self):\n",
    "        print(\"Honking\")\n",
    "    def stop(self):\n",
    "        print(\"Stopping the car\")\n",
    "\n",
    "class MyCar(Car):\n",
    "    def __init__(self):\n",
    "        Car.__init__(self) # Car __init__ method called.This is for accessing the object  \n",
    "        print(\"My Car Created\") # attributes initialised during object creation\n",
    "    def stop(self):                         #              ^\n",
    "        print(self.carname) # This will not work otherwise |\n",
    "        print(\"Stopping my car..\")\n",
    "tesla=MyCar()\n",
    "tesla.honk()\n",
    "tesla.stop()\n",
    "tesla.carname"
   ]
  },
  {
   "cell_type": "markdown",
   "metadata": {},
   "source": [
    "<h4><u>Polymorphism</u></h4>\n",
    "<p>\n",
    "We've learned that while functions can take in different arguments, methods belong to the objects they act on. In Python, polymorphism refers to the way in which different object classes can share the same method name, and those methods can be called from the same place even though a variety of different objects might be passed in.</p>"
   ]
  },
  {
   "cell_type": "code",
   "execution_count": 39,
   "metadata": {},
   "outputs": [
    {
     "name": "stdout",
     "output_type": "stream",
     "text": [
      "niko barks\n",
      "felix meows\n"
     ]
    }
   ],
   "source": [
    "class Dog:\n",
    "    def __init__(self,name):\n",
    "        self.name=name\n",
    "    def speak(self):\n",
    "        print(f\"{self.name} barks\")\n",
    "\n",
    "class Cat:\n",
    "    def __init__(self,name):\n",
    "        self.name=name\n",
    "    def speak(self):\n",
    "        print(f\"{self.name} meows\")\n",
    "niko=Dog(\"niko\")\n",
    "felix=Cat(\"felix\")\n",
    "# niko.bark()\n",
    "# felix.bark()\n",
    "for pet in [niko,felix]:\n",
    "    pet.speak()\n",
    "\n"
   ]
  },
  {
   "cell_type": "code",
   "execution_count": 43,
   "metadata": {},
   "outputs": [
    {
     "name": "stdout",
     "output_type": "stream",
     "text": [
      "boulder says woof\n",
      "tom says meow\n"
     ]
    }
   ],
   "source": [
    "# Inheritance and Abstract Class\n",
    "\n",
    "class Animal: # Abstract Class i.e Class that never is instantiated\n",
    "    def __init__(self,name):\n",
    "        self.name=name\n",
    "    def speak(self):\n",
    "        raise NotImplementedError(\"Subclass must implement abstract method\")\n",
    "\n",
    "class Dog(Animal):\n",
    "    def speak(self): # No init method\n",
    "        return self.name+\" says woof\"\n",
    "    \n",
    "class Cat(Animal):\n",
    "    def speak(self):\n",
    "        return self.name+\" says meow\"\n",
    "\n",
    "boulder=Dog(\"boulder\") # init method called from base class Animal\n",
    "tom=Cat(\"tom\") # init method called from base class Animal\n",
    "print(boulder.speak())\n",
    "print(tom.speak())"
   ]
  },
  {
   "cell_type": "code",
   "execution_count": 3,
   "metadata": {},
   "outputs": [
    {
     "name": "stdout",
     "output_type": "stream",
     "text": [
      "Book has been created\n",
      "A book has been removed now\n",
      "Book Name:Python Rocks!,Author:Jose Portilla,Pages:159\n",
      "159\n",
      "A book has been removed now\n"
     ]
    }
   ],
   "source": [
    "class Book():\n",
    "    def __init__(self,title,author,pages):\n",
    "        self.title=title\n",
    "        self.author=author\n",
    "        self.pages=pages\n",
    "        print(\"Book has been created\")\n",
    "    \n",
    "    def __str__(self):\n",
    "        return \"Book Name:%s,Author:%s,Pages:%s\"%(self.title,self.author,self.pages)\n",
    "\n",
    "    def __del__(self):\n",
    "        print(\"A book has been removed now\")\n",
    "    \n",
    "    def __len__(self):\n",
    "        return self.pages\n",
    "        \n",
    "book = Book(\"Python Rocks!\", \"Jose Portilla\", 159)\n",
    "\n",
    "#Special Methods\n",
    "print(book)\n",
    "print(len(book))\n",
    "del book"
   ]
  },
  {
   "cell_type": "code",
   "execution_count": null,
   "metadata": {
    "collapsed": true
   },
   "outputs": [],
   "source": []
  },
  {
   "cell_type": "code",
   "execution_count": null,
   "metadata": {
    "collapsed": true
   },
   "outputs": [],
   "source": []
  }
 ],
 "metadata": {
  "kernelspec": {
   "display_name": "Python 3",
   "language": "python",
   "name": "python3"
  },
  "language_info": {
   "codemirror_mode": {
    "name": "ipython",
    "version": 3
   },
   "file_extension": ".py",
   "mimetype": "text/x-python",
   "name": "python",
   "nbconvert_exporter": "python",
   "pygments_lexer": "ipython3",
   "version": "3.6.3"
  }
 },
 "nbformat": 4,
 "nbformat_minor": 2
}
