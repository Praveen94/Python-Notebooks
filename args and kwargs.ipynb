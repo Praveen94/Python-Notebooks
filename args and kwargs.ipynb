{
 "cells": [
  {
   "cell_type": "markdown",
   "metadata": {},
   "source": [
    "<h3><u>*args</u></h3>\n",
    "<p>When a function parameter starts with an asterisk, it allows for an arbitrary number of arguments, and the function takes them in as a tuple of values.</p>"
   ]
  },
  {
   "cell_type": "code",
   "execution_count": 8,
   "metadata": {},
   "outputs": [
    {
     "name": "stdout",
     "output_type": "stream",
     "text": [
      "I love my Father\n",
      "I love my Mother\n",
      "I love my Brother\n",
      "I love my Family\n"
     ]
    }
   ],
   "source": [
    "def printmembers(*args):\n",
    "    for family_member in args:\n",
    "        print(f\"I love my {family_member}\")\n",
    "    else:\n",
    "        print(\"I love my Family\")\n",
    "printmembers(\"Father\",\"Mother\",\"Brother\")"
   ]
  },
  {
   "cell_type": "code",
   "execution_count": 4,
   "metadata": {},
   "outputs": [
    {
     "name": "stdout",
     "output_type": "stream",
     "text": [
      "Prithiveen:The name of my brother\n",
      "Sumathi:The name of my mother\n",
      "Ramkumar:The name of my father\n",
      "Praveen:That's myself\n"
     ]
    }
   ],
   "source": [
    "family_dict={\n",
    "    \"family\":{\n",
    "        \"Prithiveen\":\"The name of my brother\",\n",
    "        \"Sumathi\":\"The name of my mother\",\n",
    "        \"Ramkumar\":\"The name of my father\",\n",
    "        \"Praveen\":\"That's myself\"\n",
    "    }\n",
    "}\n",
    "def printFamily(my_dict):\n",
    "    my_family=list(my_dict[\"family\"].keys())\n",
    "    for member in my_family:\n",
    "        print(f\"{member}:{my_dict['family'][member]}\")\n",
    "\n",
    "printFamily(family_dict)"
   ]
  },
  {
   "cell_type": "markdown",
   "metadata": {},
   "source": [
    "<h3><u>**kwargs</u></h3>\n",
    "<p>Similarly, Python offers a way to handle arbitrary numbers of keyworded arguments. Instead of creating a tuple of values, **kwargs builds a dictionary of key/value pairs.</p> "
   ]
  },
  {
   "cell_type": "code",
   "execution_count": 22,
   "metadata": {},
   "outputs": [
    {
     "name": "stdout",
     "output_type": "stream",
     "text": [
      "I like eggs\n",
      "I like cake\n",
      "======================================================================\n",
      "Prithiveen:The name of my brother\n",
      "Sumathi:The name of my mother\n",
      "Ramkumar:The name of my father\n",
      "Praveen:That's myself\n",
      "======================================================================\n",
      "Tesla:An Electric car with a sports engine\n",
      "BMW:Petrol like water\n",
      "Benz:Comfort on wheels\n"
     ]
    }
   ],
   "source": [
    "def printFavorite(*args,**kwargs):\n",
    "    for eats in args:\n",
    "        print(f\"I like {eats}\")\n",
    "    print(\"=\"*70)    \n",
    "    for members in kwargs[\"myfamily\"][\"family\"]:\n",
    "        print(f\"{members}:{kwargs['myfamily']['family'][members]}\")\n",
    "    print(\"=\"*70)\n",
    "    for cars in kwargs[\"myfavcar\"][\"latest\"]:\n",
    "        print(f\"{cars}:{kwargs['myfavcar']['latest'][cars]}\")\n",
    "    \n",
    "printFavorite('eggs','cake',myfamily=family_dict,myfavcar={\n",
    "    \"latest\":{\n",
    "    \"Tesla\":\"An Electric car with a sports engine\",\n",
    "    \"BMW\":\"Petrol like water\",\n",
    "    \"Benz\":\"Comfort on wheels\"\n",
    "    }\n",
    "})"
   ]
  }
 ],
 "metadata": {
  "kernelspec": {
   "display_name": "Python 3",
   "language": "python",
   "name": "python3"
  },
  "language_info": {
   "codemirror_mode": {
    "name": "ipython",
    "version": 3
   },
   "file_extension": ".py",
   "mimetype": "text/x-python",
   "name": "python",
   "nbconvert_exporter": "python",
   "pygments_lexer": "ipython3",
   "version": "3.6.3"
  }
 },
 "nbformat": 4,
 "nbformat_minor": 2
}
