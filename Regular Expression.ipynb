{
 "cells": [
  {
   "cell_type": "markdown",
   "metadata": {},
   "source": [
    "<h1>Regular Expressions</h1>\n",
    "<p>\n",
    "Regular expressions are text-matching patterns described with a formal syntax. You'll often hear regular expressions referred to as 'regex' or 'regexp' in conversation. Regular expressions can include a variety of rules, from finding repetition, to text-matching, and much more.</p>"
   ]
  },
  {
   "cell_type": "markdown",
   "metadata": {},
   "source": [
    "<h3>Searching for Patterns in Text</h3>\n",
    "<p>One of the most common uses for the re module is for finding patterns in text.</p>"
   ]
  },
  {
   "cell_type": "code",
   "execution_count": 3,
   "metadata": {},
   "outputs": [
    {
     "name": "stdout",
     "output_type": "stream",
     "text": [
      "Searching for foo1 in :This is a foo string but not a foo2 string\n",
      "No Match was found\n",
      "\n",
      "Searching for foo2 in :This is a foo string but not a foo2 string\n",
      "Match was found\n",
      "\n"
     ]
    }
   ],
   "source": [
    "import re\n",
    "patterns=[\"foo1\",\"foo2\"]\n",
    "foo=\"This is a foo string but not a foo2 string\"\n",
    "for pattern in patterns:\n",
    "    print(f\"Searching for {pattern} in :{foo}\")\n",
    "    if re.search(pattern,foo):\n",
    "        print(\"Match was found\")\n",
    "    else:\n",
    "        print(\"No Match was found\")\n",
    "    print()"
   ]
  },
  {
   "cell_type": "markdown",
   "metadata": {},
   "source": [
    "<p>Now we've seen that re.search() will take the pattern, scan the text, and then return a <strong>Match</strong> object. If no pattern is found, <strong>None</strong> is returned.</p><p>This Match object returned by the search() method is more than just a Boolean or None, it contains <strong>information about the match</strong>, <strong>including the original input string, the regular expression that was used, and the location of the match.</strong></p>"
   ]
  },
  {
   "cell_type": "code",
   "execution_count": 6,
   "metadata": {},
   "outputs": [
    {
     "name": "stdout",
     "output_type": "stream",
     "text": [
      "Foo match start: 10\n",
      "Foo match end: 13\n",
      "This is a foo string but not a foo2 string\n",
      "foo\n"
     ]
    }
   ],
   "source": [
    "match=re.search(\"foo\",foo)\n",
    "print(f\"Foo match start: {match.start()}\")\n",
    "print(f\"Foo match end: {match.end()}\")\n",
    "print(match.string)\n",
    "print(match.group())"
   ]
  },
  {
   "cell_type": "markdown",
   "metadata": {},
   "source": [
    "<h3>Split with regular expressions</h3>\n"
   ]
  },
  {
   "cell_type": "code",
   "execution_count": 11,
   "metadata": {},
   "outputs": [
    {
     "name": "stdout",
     "output_type": "stream",
     "text": [
      "['What is the domain name of someone with the email: hello', 'gmail.com']\n"
     ]
    }
   ],
   "source": [
    "sample_string='What is the domain name of someone with the email: hello@gmail.com'\n",
    "split_string=re.split(\"@\",sample_string)\n",
    "print(split_string)"
   ]
  },
  {
   "cell_type": "markdown",
   "metadata": {},
   "source": [
    "<h3>Finding all instances of a pattern</h3>\n"
   ]
  },
  {
   "cell_type": "code",
   "execution_count": 14,
   "metadata": {},
   "outputs": [
    {
     "name": "stdout",
     "output_type": "stream",
     "text": [
      "['the', 'the']\n"
     ]
    }
   ],
   "source": [
    "find_instances=re.findall(\"the\",sample_string)\n",
    "print(find_instances)"
   ]
  },
  {
   "cell_type": "markdown",
   "metadata": {
    "collapsed": true
   },
   "source": [
    "<h3>re Pattern Syntax</h3>\n",
    "<p>This will be the bulk of this lecture on using re with Python. Regular expressions support a huge variety of patterns beyond just simply finding where a single string occurred.\n",
    "\n",
    "We can use metacharacters along with re to find specific types of patterns.</p>\n",
    "\n",
    "<h3>Repetition Syntax</h3>\n",
    "<p>There are five ways to express repetition in a pattern:\n",
    "<ol>\n",
    "<li>A pattern followed by the meta-character (star-symbol) is repeated zero or more times.</li>\n",
    "<li>Replace the * with + and the pattern must appear at least once.</li>\n",
    "<li>Using ? means the pattern appears zero or one time.</li>\n",
    "<li>For a specific number of occurrences, use {m} after the pattern, where m is replaced with the number of times the pattern should repeat.</li>\n",
    "<li>Use {m,n} where m is the minimum number of repetitions and n is the maximum. Leaving out n {m,} means the value appears at least m times, with no maximum.</li>\n",
    "</ol>\n",
    "</p>\n"
   ]
  },
  {
   "cell_type": "code",
   "execution_count": 4,
   "metadata": {},
   "outputs": [
    {
     "name": "stdout",
     "output_type": "stream",
     "text": [
      "Searching the phrase with re check:sd*\n",
      "['sd', 'sd', 's', 's', 'sddd', 'sddd', 'sddd', 'sd', 's', 's', 's', 's', 's', 's', 'sdddd']\n",
      "\n",
      "Searching the phrase with re check:sd+\n",
      "['sd', 'sd', 'sddd', 'sddd', 'sddd', 'sd', 'sdddd']\n",
      "\n",
      "Searching the phrase with re check:sd?\n",
      "['sd', 'sd', 's', 's', 'sd', 'sd', 'sd', 'sd', 's', 's', 's', 's', 's', 's', 'sd']\n",
      "\n",
      "Searching the phrase with re check:sd{3}\n",
      "['sddd', 'sddd', 'sddd', 'sddd']\n",
      "\n",
      "Searching the phrase with re check:sd{2,3}\n",
      "['sddd', 'sddd', 'sddd', 'sddd']\n",
      "\n"
     ]
    }
   ],
   "source": [
    "def multi_re_find(patterns,phrase):\n",
    "    for pattern in patterns:\n",
    "        print(f\"Searching the phrase with re check:{pattern}\")\n",
    "        print(re.findall(pattern,phrase))\n",
    "        print()\n",
    "\n",
    "test_phrase=\"sdsd..sssddd...sdddsddd...dsds...dsssss...sdddd\"\n",
    "test_patterns=[\"sd*\",\"sd+\",\"sd?\",\"sd{3}\",\"sd{2,3}\"]\n",
    "multi_re_find(patterns=test_patterns,phrase=test_phrase)"
   ]
  },
  {
   "cell_type": "markdown",
   "metadata": {},
   "source": [
    "<h3>Character Sets</h3>\n",
    "<p>Character sets are used when you wish to match any one of a group of characters at a point in the input. Brackets are used to construct character set inputs. For example: the input [ab] searches for occurrences of either a or b.</p>\n"
   ]
  },
  {
   "cell_type": "code",
   "execution_count": 12,
   "metadata": {},
   "outputs": [
    {
     "name": "stdout",
     "output_type": "stream",
     "text": [
      "Searching the phrase with re check:[sd]\n",
      "['s', 'd', 'd', 's', 'd', 's', 'd', 's', 's', 's', 's', 'd', 'd', 'd', 's', 'd', 'd', 'd', 's', 'd', 'd', 'd', 'd', 's', 'd', 's', 'd', 's', 's', 's', 's', 's', 's', 'd', 'd', 'd', 'd']\n",
      "\n",
      "Searching the phrase with re check:s[sd]+\n",
      "['sdd', 'sdsds', 'sssddd', 'sdddsddd', 'sds', 'sssss', 'sdddd']\n",
      "\n"
     ]
    }
   ],
   "source": [
    "test_patterns=[\"[sd]\",\"s[sd]+\"]\n",
    "test_phrase = 'sdd sdsds..sssddd...sdddsddd...dsds...dsssss...sdddd'\n",
    "multi_re_find(test_patterns,test_phrase)"
   ]
  },
  {
   "cell_type": "markdown",
   "metadata": {},
   "source": [
    "<p>It makes sense that the first input <code>[sd]</code> returns every instance of s or d. Also, the second input <code>s[sd]+</code> returns any full strings that begin with an <strong>s</strong> and <strong>continue with s or d characters until another character is reached.</strong></p>"
   ]
  },
  {
   "cell_type": "markdown",
   "metadata": {},
   "source": [
    "<h3>Exclusion</h3>\n",
    "<p>\n",
    "We can use ^ to exclude terms by incorporating it into the bracket syntax notation. For example: [^...] will match any single character not in the brackets.</p><p><strong>Use [^!.? ] to check for matches that are not a !,.,?, or space.</strong> Add a + to check that the match appears at least once. This basically translates into finding the words.</p>"
   ]
  },
  {
   "cell_type": "code",
   "execution_count": 12,
   "metadata": {},
   "outputs": [
    {
     "name": "stdout",
     "output_type": "stream",
     "text": [
      "['This', 'is', 'a', 'string', 'with', 'foo', 'Don', 't', 'be', 'foolish', 'Work', 'Hard', 'like', 'Elon', 'Musk']\n",
      "['This is a string with foo', 'Don', 't be foolish', 'Work Hard like Elon Musk']\n"
     ]
    }
   ],
   "source": [
    "import re\n",
    "test_phrase=\"This is a string with foo.Don't be foolish!Work Hard like Elon Musk.\"\n",
    "print(re.findall(\"[^!?'. ]+\",test_phrase)) \n",
    "print(re.findall(\"[^!?'.]+\",test_phrase))"
   ]
  },
  {
   "cell_type": "markdown",
   "metadata": {},
   "source": [
    "<p>\n",
    "<pre>\n",
    "print(re.findall(\"[^!?'. ]+\",test_phrase)) # Excludes every first occurence including space that's why it is                                                    split in this fashion.\n",
    "\n",
    "\n",
    "print(re.findall(\"[^?'.]+\",test_phrase)) # Excludes every first occurence without including space,that's why it is\n",
    "                                           split as a sentence wherever \".,',!\" occurs.\n",
    "</pre>\n",
    "</p>"
   ]
  },
  {
   "cell_type": "markdown",
   "metadata": {},
   "source": [
    "<h3>Character Ranges</h3>\n",
    "<p>As character sets grow larger, typing every character that should (or should not) match could become very tedious. A more compact format using character ranges lets you define a character set to include all of the contiguous characters between a start and stop point. The format used is [start-end].</p>\n",
    "<p>\n",
    "Common use cases are to search for a specific range of letters in the alphabet. For instance, [a-f] would return matches with any occurrence of letters between a and f.</p>"
   ]
  },
  {
   "cell_type": "code",
   "execution_count": 12,
   "metadata": {},
   "outputs": [
    {
     "name": "stdout",
     "output_type": "stream",
     "text": [
      "Searching the phrase with re check:[a-z]+\n",
      "['his', 'is', 'an', 'example', 'sentence', 'ets', 'see', 'if', 'we', 'can', 'find', 'some', 'letters']\n",
      "\n",
      "Searching the phrase with re check:[A-Z]+\n",
      "['T', 'L']\n",
      "\n",
      "Searching the phrase with re check:[A-Z][a-z]+\n",
      "['This', 'Lets']\n",
      "\n",
      "Searching the phrase with re check:[A-Z ][a-z ]+\n",
      "['This is an example sentence', 'Lets see if we can find some letters']\n",
      "\n"
     ]
    }
   ],
   "source": [
    "test_phrase = 'This is an example sentence. Lets see if we can find some letters.'\n",
    "test_patterns=[\"[a-z]+\",\"[A-Z]+\",\"[A-Z][a-z]+\",\"[A-Z ][a-z ]+\"] # <-- One or more occurences with spaces.\n",
    "multi_re_find(test_patterns,test_phrase)"
   ]
  },
  {
   "cell_type": "code",
   "execution_count": 25,
   "metadata": {},
   "outputs": [
    {
     "name": "stdout",
     "output_type": "stream",
     "text": [
      "Searching the phrase with re check:[a-f]+\n",
      "['abcdef', 'abcdef', 'abcdef']\n",
      "\n",
      "Searching the phrase with re check:[a-z]+\n",
      "['abcdef', 'abcdefghijk', 'jkabcdef']\n",
      "\n",
      "Searching the phrase with re check:[A-Z]+\n",
      "[]\n",
      "\n",
      "Searching the phrase with re check:[a-z][A-Z]+\n",
      "[]\n",
      "\n"
     ]
    }
   ],
   "source": [
    "test_phrase = 'abcdef abcdefghijk jkabcdef'\n",
    "test_patterns=[\"[a-f]+\",\"[a-z]+\",\"[A-Z]+\",\"[a-z][A-Z]+\"] # They find patterns without including space.That's why\n",
    "multi_re_find(test_patterns,test_phrase)                 # it doesn't match sentences with space."
   ]
  },
  {
   "cell_type": "code",
   "execution_count": 26,
   "metadata": {},
   "outputs": [
    {
     "name": "stdout",
     "output_type": "stream",
     "text": [
      "Searching the phrase with re check:[a-f ]+\n",
      "['abcdef abcdef', ' ', 'abcdef']\n",
      "\n",
      "Searching the phrase with re check:[a-z ]+\n",
      "['abcdef abcdefghijk jkabcdef']\n",
      "\n",
      "Searching the phrase with re check:[A-Z ]+\n",
      "[' ', ' ']\n",
      "\n",
      "Searching the phrase with re check:[a-z ][A-Z ]+\n",
      "['f ', 'k ']\n",
      "\n"
     ]
    }
   ],
   "source": [
    "test_phrase = 'abcdef abcdefghijk jkabcdef'\n",
    "test_patterns=[\"[a-f ]+\",\"[a-z ]+\",\"[A-Z ]+\",\"[a-z ][A-Z ]+\"] # They find patterns including space.That's why\n",
    "multi_re_find(test_patterns,test_phrase)                      # we are getting sentences with space in the list."
   ]
  },
  {
   "cell_type": "code",
   "execution_count": 13,
   "metadata": {},
   "outputs": [
    {
     "name": "stdout",
     "output_type": "stream",
     "text": [
      "He's Peter.\n"
     ]
    }
   ],
   "source": [
    "print('He\\'s Peter.')"
   ]
  },
  {
   "cell_type": "code",
   "execution_count": null,
   "metadata": {
    "collapsed": true
   },
   "outputs": [],
   "source": []
  }
 ],
 "metadata": {
  "kernelspec": {
   "display_name": "Python 3",
   "language": "python",
   "name": "python3"
  },
  "language_info": {
   "codemirror_mode": {
    "name": "ipython",
    "version": 3
   },
   "file_extension": ".py",
   "mimetype": "text/x-python",
   "name": "python",
   "nbconvert_exporter": "python",
   "pygments_lexer": "ipython3",
   "version": "3.6.3"
  }
 },
 "nbformat": 4,
 "nbformat_minor": 2
}
