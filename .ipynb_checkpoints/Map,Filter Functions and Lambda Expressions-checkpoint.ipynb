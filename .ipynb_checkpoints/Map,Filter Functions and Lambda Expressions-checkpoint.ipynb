{
 "cells": [
  {
   "cell_type": "markdown",
   "metadata": {},
   "source": [
    "<h3>Map function</h3>"
   ]
  },
  {
   "cell_type": "markdown",
   "metadata": {},
   "source": [
    "<p>The map function allows you to <b>\"map\"</b> a function to an <b>iterable object</b>. That is to say you can quickly <b>call the same function to every item in an iterable</b>, such as a list.</p>"
   ]
  },
  {
   "cell_type": "code",
   "execution_count": 10,
   "metadata": {},
   "outputs": [
    {
     "name": "stdout",
     "output_type": "stream",
     "text": [
      "I love my Father\n",
      "I love my Mother\n",
      "I love my Brother\n"
     ]
    }
   ],
   "source": [
    "my_family=[\"Father\",\"Mother\",\"Brother\"]\n",
    "def love(family):\n",
    "    return \"I love my \"+family\n",
    "for phrase in list(map(love,my_family)):\n",
    "    print(phrase)"
   ]
  },
  {
   "cell_type": "code",
   "execution_count": 12,
   "metadata": {},
   "outputs": [
    {
     "name": "stdout",
     "output_type": "stream",
     "text": [
      "['I love A', 'I love I']\n"
     ]
    }
   ],
   "source": [
    "def AI(letter):\n",
    "    return\"I love \"+letter\n",
    "ai=\"AI\"\n",
    "print(list(map(AI,ai)))"
   ]
  },
  {
   "cell_type": "markdown",
   "metadata": {},
   "source": [
    "<h3><u>Filter function</u></h3>\n",
    "<p>The filter function <b>returns an iterator yielding those items of iterable for which function(item) is true.</b> Meaning <b>you need to filter by a function that returns either True or False.</b> Then passing that into filter (along with your iterable) and you will get back only the results that would return True when passed to the function.</p>"
   ]
  },
  {
   "cell_type": "code",
   "execution_count": 13,
   "metadata": {},
   "outputs": [
    {
     "name": "stdout",
     "output_type": "stream",
     "text": [
      "[2, 4, 6, 8]\n"
     ]
    }
   ],
   "source": [
    "def evens(num):\n",
    "    return num%2==0\n",
    "my_nums=[1,2,3,4,5,6,7,8,9]\n",
    "print(list(filter(evens,my_nums)))"
   ]
  },
  {
   "cell_type": "markdown",
   "metadata": {
    "collapsed": true
   },
   "source": [
    "<h3><u>Lambda Expressions</u></h3>"
   ]
  },
  {
   "cell_type": "markdown",
   "metadata": {},
   "source": [
    "lambda expressions allow us to create \"anonymous\" functions. This basically means we can quickly make ad-hoc functions without needing to properly define a function using def.\n",
    "\n",
    "Function objects returned by running lambda expressions work exactly the same as those created and assigned by defs. There is key difference that makes lambda useful in specialized roles:\n",
    "\n",
    "<b>lambda's body is a single expression, not a block of statements.</b>\n",
    "\n",
    "The lambda's body is similar to what we would put in a def body's return statement. We simply type the result as an expression instead of explicitly returning it. Because it is limited to an expression, a lambda is less general that a def. We can only squeeze design, to limit program nesting. lambda is designed for coding simple functions, and def handles the larger tasks."
   ]
  },
  {
   "cell_type": "code",
   "execution_count": 4,
   "metadata": {},
   "outputs": [
    {
     "name": "stdout",
     "output_type": "stream",
     "text": [
      "6\n",
      "12\n",
      "25\n",
      "36\n"
     ]
    }
   ],
   "source": [
    "double=lambda num:num*2\n",
    "print(double(3))\n",
    "print(double(6))\n",
    "square=lambda num:num**2\n",
    "print(square(5))\n",
    "print(square(6))"
   ]
  },
  {
   "cell_type": "code",
   "execution_count": null,
   "metadata": {
    "collapsed": true
   },
   "outputs": [],
   "source": []
  }
 ],
 "metadata": {
  "kernelspec": {
   "display_name": "Python 3",
   "language": "python",
   "name": "python3"
  },
  "language_info": {
   "codemirror_mode": {
    "name": "ipython",
    "version": 3
   },
   "file_extension": ".py",
   "mimetype": "text/x-python",
   "name": "python",
   "nbconvert_exporter": "python",
   "pygments_lexer": "ipython3",
   "version": "3.6.3"
  }
 },
 "nbformat": 4,
 "nbformat_minor": 2
}
