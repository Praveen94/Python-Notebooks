{
 "cells": [
  {
   "cell_type": "code",
   "execution_count": 10,
   "metadata": {},
   "outputs": [
    {
     "name": "stdout",
     "output_type": "stream",
     "text": [
      "Driving a RaceCar\n",
      "Having a drive with family\n"
     ]
    }
   ],
   "source": [
    "class Car:\n",
    "    def factory(type):\n",
    "        if type==\"RaceCar\":\n",
    "            return RaceCar()\n",
    "        if type==\"SedanCar\":\n",
    "            return SedanCar()\n",
    "        \n",
    "    factory=staticmethod(factory)\n",
    "\n",
    "class RaceCar(Car): # Car is the base class\n",
    "    def drive(self):\n",
    "        print(\"Driving a RaceCar\")\n",
    "\n",
    "class SedanCar(Car): # Car is the base class\n",
    "    def drive(self):\n",
    "        print(\"Having a drive with family\")\n",
    "\n",
    "racecar=Car.factory(\"RaceCar\")\n",
    "racecar.drive()\n",
    "sedancar=Car.factory(\"SedanCar\")\n",
    "sedancar.drive()\n",
    "# racecar=RaceCar.factory(\"RaceCar\")\n",
    "# racecar.drive()\n"
   ]
  },
  {
   "cell_type": "code",
   "execution_count": null,
   "metadata": {
    "collapsed": true
   },
   "outputs": [],
   "source": []
  }
 ],
 "metadata": {
  "kernelspec": {
   "display_name": "Python 3",
   "language": "python",
   "name": "python3"
  },
  "language_info": {
   "codemirror_mode": {
    "name": "ipython",
    "version": 3
   },
   "file_extension": ".py",
   "mimetype": "text/x-python",
   "name": "python",
   "nbconvert_exporter": "python",
   "pygments_lexer": "ipython3",
   "version": "3.6.3"
  }
 },
 "nbformat": 4,
 "nbformat_minor": 2
}
