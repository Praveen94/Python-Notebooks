{
 "cells": [
  {
   "cell_type": "markdown",
   "metadata": {},
   "source": [
    "<div>Numbers: There are two types of Numbers:\n",
    "         1.Integers which are whole numbers\n",
    "         2.Floating points which have decimals Eg.2.5,2E8\n",
    "</div>\n",
    "<div>Strings: Strings in python are sequences and are indexed based on their position.\n",
    "         They are however immutable.\n",
    "</div>\n",
    "<div>Lists:   Lists are the basic sequence types in python.\n",
    "         Lists can have any data type as its element.\n",
    "</div>\n",
    "<div>Tuples:  Tuples are like lists but immutable.\n",
    "         Tuples can have any data type as well.\n",
    "</div>\n",
    "<div>Dictionaries: They are key-value pairs.They are unordered mostly.\n",
    "               The values can be another dictionary or a list or any other data type.\n",
    "</div>"
   ]
  },
  {
   "cell_type": "code",
   "execution_count": null,
   "metadata": {
    "collapsed": true
   },
   "outputs": [],
   "source": []
  }
 ],
 "metadata": {
  "kernelspec": {
   "display_name": "Python 3",
   "language": "python",
   "name": "python3"
  },
  "language_info": {
   "codemirror_mode": {
    "name": "ipython",
    "version": 3
   },
   "file_extension": ".py",
   "mimetype": "text/x-python",
   "name": "python",
   "nbconvert_exporter": "python",
   "pygments_lexer": "ipython3",
   "version": "3.6.3"
  }
 },
 "nbformat": 4,
 "nbformat_minor": 2
}
