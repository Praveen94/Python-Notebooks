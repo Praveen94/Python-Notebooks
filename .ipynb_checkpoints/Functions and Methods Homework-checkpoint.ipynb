{
 "cells": [
  {
   "cell_type": "code",
   "execution_count": 1,
   "metadata": {},
   "outputs": [
    {
     "name": "stdout",
     "output_type": "stream",
     "text": [
      "33.49333333333333\n"
     ]
    }
   ],
   "source": [
    "def vol(rad):\n",
    "    return 4/3*3.14*rad**3\n",
    "print(vol(2))"
   ]
  },
  {
   "cell_type": "code",
   "execution_count": 6,
   "metadata": {},
   "outputs": [
    {
     "name": "stdout",
     "output_type": "stream",
     "text": [
      "5 is in the range between 2 and 7\n",
      "True\n"
     ]
    }
   ],
   "source": [
    "def ran_check(num,low,high):\n",
    "    if num in range(low,high+1):\n",
    "        print(f\"{num} is in the range between {low} and {high}\")\n",
    "def ran_bool(num,low,high):\n",
    "    return num in range(low,high+1)\n",
    "ran_check(5,2,7)\n",
    "print(ran_bool(3,1,10))"
   ]
  },
  {
   "cell_type": "code",
   "execution_count": 16,
   "metadata": {},
   "outputs": [
    {
     "name": "stdout",
     "output_type": "stream",
     "text": [
      "Upper Case:4\n",
      "lower Case:33\n"
     ]
    }
   ],
   "source": [
    "def up_low(s):\n",
    "    up,low=0,0\n",
    "    for letter in list(s.replace(\" \",\"\")):\n",
    "        if letter.isupper():\n",
    "            up+=1\n",
    "        elif letter.islower():\n",
    "            low+=1\n",
    "        else:\n",
    "            pass\n",
    "    print(f\"Upper Case:{up}\")\n",
    "    print(f\"lower Case:{low}\")\n",
    "    \n",
    "up_low('Hello Mr. Rogers, how are you this fine Tuesday?')"
   ]
  },
  {
   "cell_type": "code",
   "execution_count": 17,
   "metadata": {},
   "outputs": [
    {
     "name": "stdout",
     "output_type": "stream",
     "text": [
      "[1, 2, 3, 4, 5]\n"
     ]
    }
   ],
   "source": [
    "def unique_list(lst):\n",
    "    my_set=set(lst)\n",
    "    my_list=list(my_set)\n",
    "    print(my_list)\n",
    "unique_list([1,1,1,1,2,2,3,3,3,3,4,5])"
   ]
  },
  {
   "cell_type": "code",
   "execution_count": 18,
   "metadata": {},
   "outputs": [
    {
     "data": {
      "text/plain": [
       "-24"
      ]
     },
     "execution_count": 18,
     "metadata": {},
     "output_type": "execute_result"
    }
   ],
   "source": [
    "def multiply(numbers):\n",
    "    prod=1\n",
    "    for num in numbers:\n",
    "        prod*=num\n",
    "    return prod\n",
    "multiply([1,2,3,-4])"
   ]
  },
  {
   "cell_type": "code",
   "execution_count": 22,
   "metadata": {},
   "outputs": [
    {
     "name": "stdout",
     "output_type": "stream",
     "text": [
      "True\n",
      "True\n"
     ]
    }
   ],
   "source": [
    "def palindrome(s):\n",
    "    print(s[::]==s[::-1])\n",
    "palindrome('helleh')\n",
    "palindrome('malayalam')"
   ]
  },
  {
   "cell_type": "code",
   "execution_count": null,
   "metadata": {
    "collapsed": true
   },
   "outputs": [],
   "source": []
  }
 ],
 "metadata": {
  "kernelspec": {
   "display_name": "Python 3",
   "language": "python",
   "name": "python3"
  },
  "language_info": {
   "codemirror_mode": {
    "name": "ipython",
    "version": 3
   },
   "file_extension": ".py",
   "mimetype": "text/x-python",
   "name": "python",
   "nbconvert_exporter": "python",
   "pygments_lexer": "ipython3",
   "version": "3.6.3"
  }
 },
 "nbformat": 4,
 "nbformat_minor": 2
}
