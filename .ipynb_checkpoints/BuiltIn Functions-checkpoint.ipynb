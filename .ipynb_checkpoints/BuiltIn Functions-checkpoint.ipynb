{
 "cells": [
  {
   "cell_type": "markdown",
   "metadata": {},
   "source": [
    "<h3>Built In Functions</h3>"
   ]
  },
  {
   "cell_type": "markdown",
   "metadata": {},
   "source": [
    "<h3>Map Function</h3>"
   ]
  },
  {
   "cell_type": "markdown",
   "metadata": {},
   "source": [
    "The asterisk * symbol is used to print every item in a collection, and the sep='\\n ' argument prints each item on a separate line."
   ]
  },
  {
   "cell_type": "code",
   "execution_count": 10,
   "metadata": {},
   "outputs": [
    {
     "name": "stdout",
     "output_type": "stream",
     "text": [
      "My favorite car is Tesla\n",
      "My favorite car is Audi\n",
      "My favorite car is BMW\n",
      "My favorite car is Lucid\n"
     ]
    }
   ],
   "source": [
    "car_list=[\"Tesla\",\"Audi\",\"BMW\",\"Lucid\"]\n",
    "def favorite(car):\n",
    "    return \"My favorite car is {}\".format(car)\n",
    "print(*list(map(favorite,car_list)),sep='\\n')"
   ]
  },
  {
   "cell_type": "markdown",
   "metadata": {},
   "source": [
    "<h4><u>map() returns an iterator object</u></h4>"
   ]
  },
  {
   "cell_type": "code",
   "execution_count": 12,
   "metadata": {},
   "outputs": [
    {
     "name": "stdout",
     "output_type": "stream",
     "text": [
      "My favorite car is Tesla\n",
      "My favorite car is Audi\n",
      "My favorite car is BMW\n",
      "My favorite car is Lucid\n"
     ]
    }
   ],
   "source": [
    "car_list=[\"Tesla\",\"Audi\",\"BMW\",\"Lucid\"]\n",
    "def favorite(car):\n",
    "    return \"My favorite car is {}\".format(car)\n",
    "\n",
    "#     return \"My favorite car is {}\".format(car)\n",
    "mapIterator=map(favorite,car_list)\n",
    "print(next(mapIterator))\n",
    "print(next(mapIterator))\n",
    "print(next(mapIterator))\n",
    "print(next(mapIterator))\n"
   ]
  },
  {
   "cell_type": "code",
   "execution_count": 40,
   "metadata": {},
   "outputs": [
    {
     "name": "stdout",
     "output_type": "stream",
     "text": [
      "2,4,6,8,10,12,14,16\n"
     ]
    }
   ],
   "source": [
    "nums=[1,2,3,4,5,6,7,8]\n",
    "multiples_of_2=list(map(lambda x:x*2,nums))\n",
    "print(*multiples_of_2,sep=\",\")"
   ]
  },
  {
   "cell_type": "code",
   "execution_count": 45,
   "metadata": {
    "collapsed": true
   },
   "outputs": [],
   "source": [
    "a=[1,2,3,4,5]\n",
    "b=[6,7,8,9,10]\n",
    "c=[11,12,13,14,15]\n",
    "sums=list(map(lambda x,y,z:x+y+z,a,b,c))"
   ]
  },
  {
   "cell_type": "code",
   "execution_count": 46,
   "metadata": {},
   "outputs": [
    {
     "name": "stdout",
     "output_type": "stream",
     "text": [
      "[18, 21, 24, 27, 30]\n"
     ]
    }
   ],
   "source": [
    "print(sums)"
   ]
  },
  {
   "cell_type": "markdown",
   "metadata": {
    "collapsed": true
   },
   "source": [
    "<h2>Reduce Function</h2>"
   ]
  },
  {
   "cell_type": "markdown",
   "metadata": {},
   "source": [
    "<h3>We keep reducing the sequence until a single final value is obtained.</h3>"
   ]
  },
  {
   "cell_type": "code",
   "execution_count": 4,
   "metadata": {},
   "outputs": [
    {
     "name": "stdout",
     "output_type": "stream",
     "text": [
      "45\n"
     ]
    }
   ],
   "source": [
    "from functools import reduce\n",
    "lst=[1,2,3,4,5,6,7,8,9]\n",
    "print(reduce(lambda x,y:x+y,lst))"
   ]
  },
  {
   "cell_type": "code",
   "execution_count": 9,
   "metadata": {},
   "outputs": [
    {
     "name": "stdout",
     "output_type": "stream",
     "text": [
      "I want to be an entrepreneur\n"
     ]
    }
   ],
   "source": [
    "from functools import reduce\n",
    "my_dream=[\"I\",\" want\",\" to\",\" be\",\" an\",\" entrepreneur\"]\n",
    "print(reduce(lambda x,y:x+y,my_dream))"
   ]
  },
  {
   "cell_type": "code",
   "execution_count": 12,
   "metadata": {},
   "outputs": [
    {
     "name": "stdout",
     "output_type": "stream",
     "text": [
      "9\n"
     ]
    }
   ],
   "source": [
    "# To find the max of the numbers\n",
    "max_num=lambda x,y:a if x>y else y\n",
    "print(reduce(max_num,lst))\n"
   ]
  },
  {
   "cell_type": "markdown",
   "metadata": {},
   "source": [
    "<h3>Filter</h3>\n",
    "<h5>filter() returns an iterator object similar to map() but it is different in its functionality</h5>"
   ]
  },
  {
   "cell_type": "code",
   "execution_count": 11,
   "metadata": {},
   "outputs": [
    {
     "name": "stdout",
     "output_type": "stream",
     "text": [
      "[2, 4, 6, 8]\n",
      "========================================\n",
      "2\n",
      "4\n",
      "6\n",
      "8\n"
     ]
    }
   ],
   "source": [
    "even_nums=lambda x:x%2==0\n",
    "lst=[1,2,3,4,5,6,7,8,9]\n",
    "print(list(filter(even_nums,lst)))\n",
    "print(\"=\"*40)\n",
    "even_lst=filter(even_nums,lst)\n",
    "print(next(even_lst))\n",
    "print(next(even_lst))\n",
    "print(next(even_lst))\n",
    "print(next(even_lst))\n"
   ]
  }
 ],
 "metadata": {
  "kernelspec": {
   "display_name": "Python 3",
   "language": "python",
   "name": "python3"
  },
  "language_info": {
   "codemirror_mode": {
    "name": "ipython",
    "version": 3
   },
   "file_extension": ".py",
   "mimetype": "text/x-python",
   "name": "python",
   "nbconvert_exporter": "python",
   "pygments_lexer": "ipython3",
   "version": "3.6.3"
  }
 },
 "nbformat": 4,
 "nbformat_minor": 2
}
