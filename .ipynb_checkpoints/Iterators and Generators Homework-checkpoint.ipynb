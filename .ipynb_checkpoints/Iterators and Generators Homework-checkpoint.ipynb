{
 "cells": [
  {
   "cell_type": "code",
   "execution_count": 1,
   "metadata": {
    "collapsed": true
   },
   "outputs": [],
   "source": [
    "def gensquares(N):\n",
    "    for num in range(N):\n",
    "        yield num**2 # It knows the previous state of num so it iterates accordingly."
   ]
  },
  {
   "cell_type": "code",
   "execution_count": 2,
   "metadata": {},
   "outputs": [
    {
     "name": "stdout",
     "output_type": "stream",
     "text": [
      "0\n",
      "1\n",
      "4\n",
      "9\n",
      "16\n",
      "25\n",
      "36\n",
      "49\n",
      "64\n",
      "81\n"
     ]
    }
   ],
   "source": [
    "for x in gensquares(10):\n",
    "    print(x)"
   ]
  },
  {
   "cell_type": "code",
   "execution_count": 6,
   "metadata": {},
   "outputs": [
    {
     "name": "stdout",
     "output_type": "stream",
     "text": [
      "8\n",
      "1\n",
      "1\n",
      "4\n",
      "3\n",
      "4\n",
      "4\n",
      "2\n",
      "10\n",
      "9\n",
      "4\n",
      "5\n",
      "7\n"
     ]
    }
   ],
   "source": [
    "import random\n",
    "def rand_num(low,high,n):\n",
    "    for num in range(n+1):\n",
    "        yield random.randint(low,high)\n",
    "\n",
    "for num in rand_num(1,10,12):\n",
    "    print(num)\n",
    "    "
   ]
  },
  {
   "cell_type": "code",
   "execution_count": 7,
   "metadata": {},
   "outputs": [
    {
     "name": "stdout",
     "output_type": "stream",
     "text": [
      "h\n",
      "e\n",
      "l\n",
      "l\n",
      "o\n"
     ]
    }
   ],
   "source": [
    "s = 'hello'\n",
    "str_iter=iter(s)\n",
    "print(next(str_iter))\n",
    "print(next(str_iter))\n",
    "print(next(str_iter))\n",
    "print(next(str_iter))\n",
    "print(next(str_iter))"
   ]
  },
  {
   "cell_type": "code",
   "execution_count": 10,
   "metadata": {},
   "outputs": [
    {
     "name": "stdout",
     "output_type": "stream",
     "text": [
      "4\n",
      "5\n"
     ]
    }
   ],
   "source": [
    "my_list = [1,2,3,4,5]\n",
    "\n",
    "gencomp = (item for item in my_list if item > 3) # gencomp here is a generator expression.\n",
    "for item in gencomp:\n",
    "    print(item)"
   ]
  },
  {
   "cell_type": "markdown",
   "metadata": {},
   "source": [
    "<h4>Problem 4</h4>\n",
    "<p>Explain a use case for a generator using a yield statement where you would not want to use a normal function with a return statement.</p>"
   ]
  },
  {
   "cell_type": "markdown",
   "metadata": {},
   "source": [
    "Generators can be used if you don't want to waste your memory by dumping a huge data into a list if you want to just iterate over the list.You can use it for iterating over large data streams more efficiently."
   ]
  },
  {
   "cell_type": "code",
   "execution_count": null,
   "metadata": {
    "collapsed": true
   },
   "outputs": [],
   "source": []
  }
 ],
 "metadata": {
  "kernelspec": {
   "display_name": "Python 3",
   "language": "python",
   "name": "python3"
  },
  "language_info": {
   "codemirror_mode": {
    "name": "ipython",
    "version": 3
   },
   "file_extension": ".py",
   "mimetype": "text/x-python",
   "name": "python",
   "nbconvert_exporter": "python",
   "pygments_lexer": "ipython3",
   "version": "3.6.3"
  }
 },
 "nbformat": 4,
 "nbformat_minor": 2
}
