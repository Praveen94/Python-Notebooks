{
 "cells": [
  {
   "cell_type": "markdown",
   "metadata": {},
   "source": [
    " <p>When you create a variable name in Python the name is stored in a <b>name-space</b>. Variable names also have a scope, the scope determines the <b>visibility</b> of that variable name to other parts of your code.</p>"
   ]
  },
  {
   "cell_type": "markdown",
   "metadata": {},
   "source": [
    "<h6><u>namespace</u><h6>\n",
    "   \n",
    "In general, a namespace uniquely identifies a set of names so that there is no ambiguity when objects having different origins but the same names are mixed together. "
   ]
  },
  {
   "cell_type": "code",
   "execution_count": 4,
   "metadata": {},
   "outputs": [
    {
     "name": "stdout",
     "output_type": "stream",
     "text": [
      "Global X:2\n",
      "2\n"
     ]
    }
   ],
   "source": [
    "x=5\n",
    "def hello():\n",
    "    global x\n",
    "    x=2\n",
    "    print(f\"Global X:{x}\")\n",
    "hello()\n",
    "print(x)"
   ]
  },
  {
   "cell_type": "markdown",
   "metadata": {},
   "source": [
    "<p>In simple terms, the idea of scope can be described by 3 general rules:\n",
    "\n",
    "Name assignments will create or change local names by default.\n",
    "Name references search (at most) four scopes, these are:\n",
    "<ul>\n",
    "<li>local</li>\n",
    "<li>enclosing functions</li>\n",
    "<li>global</li>\n",
    "<li>built-in</li>\n",
    "</ul>\n",
    "Names declared in global and nonlocal statements map assigned names to enclosing module and function scopes.\n",
    "The statement in #2 above can be defined by the LEGB rule.\n",
    "\n",
    "<b><u>LEGB Rule:</u></b>\n",
    "\n",
    "L: Local — Names assigned in any way within a function (def or lambda), and not declared global in that function.\n",
    "\n",
    "E: Enclosing function locals — Names in the local scope of any and all enclosing functions (def or lambda), from inner to outer.\n",
    "\n",
    "G: Global (module) — Names assigned at the top-level of a module file, or declared global in a def within the file.\n",
    "\n",
    "B: Built-in (Python) — Names preassigned in the built-in names module : open, range, SyntaxError,..."
   ]
  },
  {
   "cell_type": "code",
   "execution_count": 12,
   "metadata": {},
   "outputs": [
    {
     "name": "stdout",
     "output_type": "stream",
     "text": [
      "Hello\n"
     ]
    }
   ],
   "source": [
    "#global x\n",
    "x=\"Hello\"\n",
    "def sayHello():\n",
    "    print(f\"{x}\")\n",
    "sayHello()"
   ]
  },
  {
   "cell_type": "code",
   "execution_count": 15,
   "metadata": {},
   "outputs": [
    {
     "data": {
      "text/plain": [
       "{'In': ['',\n",
       "  'x=5\\ndef hello():\\n    print(f\"Global X:{global.x}\")\\nhello()',\n",
       "  'x=5\\ndef hello():\\n    print(f\"Global X:{global x}\")\\nhello()',\n",
       "  'x=5\\ndef hello():\\n    global x\\n    print(f\"Global X:{x}\")\\nhello()',\n",
       "  'x=5\\ndef hello():\\n    global x\\n    x=2\\n    print(f\"Global X:{x}\")\\nhello()\\nprint(x)',\n",
       "  'global x=\"Hello\"\\ndef sayHello():\\n    print(f\"{x}\")\\nsayHello()',\n",
       "  'global x \\nx=\"Hello\"\\ndef sayHello():\\n    print(f\"{x}\")\\nsayHello()',\n",
       "  'global x \\nx=\"Hello\"\\ndef sayHello():\\n    print(f\"{x}\")\\n    x=\"Sammy\"\\n    print(f\"{x}\")\\nsayHello()\\nprint(f\"{x}\")',\n",
       "  '#global x \\nx=\"Hello\"\\ndef sayHello():\\n    print(f\"{x}\")\\n #   x=\"Sammy\"\\n  #  print(f\"{x}\")\\nsayHello()\\nprint(f\"{x}\")',\n",
       "  '#global x \\nx=\"Hello\"\\ndef sayHello():\\n    print(f\"{x}\")\\n    x=\"Sammy\"\\n    print(f\"{x}\")\\nsayHello()\\nprint(f\"{x}\")',\n",
       "  '#global x \\nx=\"Hello\"\\ndef sayHello():\\n    print(f\"{x}\")\\n    global x\\n    x=\"Sammy\"\\n    print(f\"{x}\")\\nsayHello()\\nprint(f\"{x}\")',\n",
       "  '#global x \\nx=\"Hello\"\\ndef sayHello():\\n    #print(f\"{x}\")\\n    global x\\n    x=\"Sammy\"\\n    print(f\"{x}\")\\nsayHello()\\nprint(f\"{x}\")',\n",
       "  '#global x\\nx=\"Hello\"\\ndef sayHello():\\n    print(f\"{x}\")\\nsayHello()',\n",
       "  'globals()\\nlocals()',\n",
       "  'globals()\\nprint(\"=\"*50)\\nprint(\"=\"*50)\\nlocals()',\n",
       "  'globals()'],\n",
       " 'Out': {13: {...}, 14: {...}},\n",
       " '_': {...},\n",
       " '_13': {...},\n",
       " '_14': {...},\n",
       " '__': {...},\n",
       " '___': '',\n",
       " '__builtin__': <module 'builtins' (built-in)>,\n",
       " '__builtins__': <module 'builtins' (built-in)>,\n",
       " '__doc__': 'Automatically created module for IPython interactive environment',\n",
       " '__loader__': None,\n",
       " '__name__': '__main__',\n",
       " '__package__': None,\n",
       " '__spec__': None,\n",
       " '_dh': ['/home/praveen/PythonPrograms/JosePortilla_Python_Course'],\n",
       " '_i': 'globals()\\nprint(\"=\"*50)\\nprint(\"=\"*50)\\nlocals()',\n",
       " '_i1': 'x=5\\ndef hello():\\n    print(f\"Global X:{global.x}\")\\nhello()',\n",
       " '_i10': '#global x \\nx=\"Hello\"\\ndef sayHello():\\n    print(f\"{x}\")\\n    global x\\n    x=\"Sammy\"\\n    print(f\"{x}\")\\nsayHello()\\nprint(f\"{x}\")',\n",
       " '_i11': '#global x \\nx=\"Hello\"\\ndef sayHello():\\n    #print(f\"{x}\")\\n    global x\\n    x=\"Sammy\"\\n    print(f\"{x}\")\\nsayHello()\\nprint(f\"{x}\")',\n",
       " '_i12': '#global x\\nx=\"Hello\"\\ndef sayHello():\\n    print(f\"{x}\")\\nsayHello()',\n",
       " '_i13': 'globals()\\nlocals()',\n",
       " '_i14': 'globals()\\nprint(\"=\"*50)\\nprint(\"=\"*50)\\nlocals()',\n",
       " '_i15': 'globals()',\n",
       " '_i2': 'x=5\\ndef hello():\\n    print(f\"Global X:{global x}\")\\nhello()',\n",
       " '_i3': 'x=5\\ndef hello():\\n    global x\\n    print(f\"Global X:{x}\")\\nhello()',\n",
       " '_i4': 'x=5\\ndef hello():\\n    global x\\n    x=2\\n    print(f\"Global X:{x}\")\\nhello()\\nprint(x)',\n",
       " '_i5': 'global x=\"Hello\"\\ndef sayHello():\\n    print(f\"{x}\")\\nsayHello()',\n",
       " '_i6': 'global x \\nx=\"Hello\"\\ndef sayHello():\\n    print(f\"{x}\")\\nsayHello()',\n",
       " '_i7': 'global x \\nx=\"Hello\"\\ndef sayHello():\\n    print(f\"{x}\")\\n    x=\"Sammy\"\\n    print(f\"{x}\")\\nsayHello()\\nprint(f\"{x}\")',\n",
       " '_i8': '#global x \\nx=\"Hello\"\\ndef sayHello():\\n    print(f\"{x}\")\\n #   x=\"Sammy\"\\n  #  print(f\"{x}\")\\nsayHello()\\nprint(f\"{x}\")',\n",
       " '_i9': '#global x \\nx=\"Hello\"\\ndef sayHello():\\n    print(f\"{x}\")\\n    x=\"Sammy\"\\n    print(f\"{x}\")\\nsayHello()\\nprint(f\"{x}\")',\n",
       " '_ih': ['',\n",
       "  'x=5\\ndef hello():\\n    print(f\"Global X:{global.x}\")\\nhello()',\n",
       "  'x=5\\ndef hello():\\n    print(f\"Global X:{global x}\")\\nhello()',\n",
       "  'x=5\\ndef hello():\\n    global x\\n    print(f\"Global X:{x}\")\\nhello()',\n",
       "  'x=5\\ndef hello():\\n    global x\\n    x=2\\n    print(f\"Global X:{x}\")\\nhello()\\nprint(x)',\n",
       "  'global x=\"Hello\"\\ndef sayHello():\\n    print(f\"{x}\")\\nsayHello()',\n",
       "  'global x \\nx=\"Hello\"\\ndef sayHello():\\n    print(f\"{x}\")\\nsayHello()',\n",
       "  'global x \\nx=\"Hello\"\\ndef sayHello():\\n    print(f\"{x}\")\\n    x=\"Sammy\"\\n    print(f\"{x}\")\\nsayHello()\\nprint(f\"{x}\")',\n",
       "  '#global x \\nx=\"Hello\"\\ndef sayHello():\\n    print(f\"{x}\")\\n #   x=\"Sammy\"\\n  #  print(f\"{x}\")\\nsayHello()\\nprint(f\"{x}\")',\n",
       "  '#global x \\nx=\"Hello\"\\ndef sayHello():\\n    print(f\"{x}\")\\n    x=\"Sammy\"\\n    print(f\"{x}\")\\nsayHello()\\nprint(f\"{x}\")',\n",
       "  '#global x \\nx=\"Hello\"\\ndef sayHello():\\n    print(f\"{x}\")\\n    global x\\n    x=\"Sammy\"\\n    print(f\"{x}\")\\nsayHello()\\nprint(f\"{x}\")',\n",
       "  '#global x \\nx=\"Hello\"\\ndef sayHello():\\n    #print(f\"{x}\")\\n    global x\\n    x=\"Sammy\"\\n    print(f\"{x}\")\\nsayHello()\\nprint(f\"{x}\")',\n",
       "  '#global x\\nx=\"Hello\"\\ndef sayHello():\\n    print(f\"{x}\")\\nsayHello()',\n",
       "  'globals()\\nlocals()',\n",
       "  'globals()\\nprint(\"=\"*50)\\nprint(\"=\"*50)\\nlocals()',\n",
       "  'globals()'],\n",
       " '_ii': 'globals()\\nlocals()',\n",
       " '_iii': '#global x\\nx=\"Hello\"\\ndef sayHello():\\n    print(f\"{x}\")\\nsayHello()',\n",
       " '_oh': {13: {...}, 14: {...}},\n",
       " 'exit': <IPython.core.autocall.ZMQExitAutocall at 0x7fc3559afeb8>,\n",
       " 'get_ipython': <bound method InteractiveShell.get_ipython of <ipykernel.zmqshell.ZMQInteractiveShell object at 0x7fc3559e8550>>,\n",
       " 'hello': <function __main__.hello>,\n",
       " 'quit': <IPython.core.autocall.ZMQExitAutocall at 0x7fc3559afeb8>,\n",
       " 'sayHello': <function __main__.sayHello>,\n",
       " 'x': 'Hello'}"
      ]
     },
     "execution_count": 15,
     "metadata": {},
     "output_type": "execute_result"
    }
   ],
   "source": [
    "globals()"
   ]
  },
  {
   "cell_type": "code",
   "execution_count": 16,
   "metadata": {},
   "outputs": [
    {
     "name": "stdout",
     "output_type": "stream",
     "text": [
      "==================================================\n",
      "==================================================\n"
     ]
    },
    {
     "data": {
      "text/plain": [
       "{'In': ['',\n",
       "  'x=5\\ndef hello():\\n    print(f\"Global X:{global.x}\")\\nhello()',\n",
       "  'x=5\\ndef hello():\\n    print(f\"Global X:{global x}\")\\nhello()',\n",
       "  'x=5\\ndef hello():\\n    global x\\n    print(f\"Global X:{x}\")\\nhello()',\n",
       "  'x=5\\ndef hello():\\n    global x\\n    x=2\\n    print(f\"Global X:{x}\")\\nhello()\\nprint(x)',\n",
       "  'global x=\"Hello\"\\ndef sayHello():\\n    print(f\"{x}\")\\nsayHello()',\n",
       "  'global x \\nx=\"Hello\"\\ndef sayHello():\\n    print(f\"{x}\")\\nsayHello()',\n",
       "  'global x \\nx=\"Hello\"\\ndef sayHello():\\n    print(f\"{x}\")\\n    x=\"Sammy\"\\n    print(f\"{x}\")\\nsayHello()\\nprint(f\"{x}\")',\n",
       "  '#global x \\nx=\"Hello\"\\ndef sayHello():\\n    print(f\"{x}\")\\n #   x=\"Sammy\"\\n  #  print(f\"{x}\")\\nsayHello()\\nprint(f\"{x}\")',\n",
       "  '#global x \\nx=\"Hello\"\\ndef sayHello():\\n    print(f\"{x}\")\\n    x=\"Sammy\"\\n    print(f\"{x}\")\\nsayHello()\\nprint(f\"{x}\")',\n",
       "  '#global x \\nx=\"Hello\"\\ndef sayHello():\\n    print(f\"{x}\")\\n    global x\\n    x=\"Sammy\"\\n    print(f\"{x}\")\\nsayHello()\\nprint(f\"{x}\")',\n",
       "  '#global x \\nx=\"Hello\"\\ndef sayHello():\\n    #print(f\"{x}\")\\n    global x\\n    x=\"Sammy\"\\n    print(f\"{x}\")\\nsayHello()\\nprint(f\"{x}\")',\n",
       "  '#global x\\nx=\"Hello\"\\ndef sayHello():\\n    print(f\"{x}\")\\nsayHello()',\n",
       "  'globals()\\nlocals()',\n",
       "  'globals()\\nprint(\"=\"*50)\\nprint(\"=\"*50)\\nlocals()',\n",
       "  'globals()',\n",
       "  'print(\"=\"*50)\\nprint(\"=\"*50)\\nlocals()'],\n",
       " 'Out': {13: {...}, 14: {...}, 15: {...}},\n",
       " '_': {...},\n",
       " '_13': {...},\n",
       " '_14': {...},\n",
       " '_15': {...},\n",
       " '__': {...},\n",
       " '___': {...},\n",
       " '__builtin__': <module 'builtins' (built-in)>,\n",
       " '__builtins__': <module 'builtins' (built-in)>,\n",
       " '__doc__': 'Automatically created module for IPython interactive environment',\n",
       " '__loader__': None,\n",
       " '__name__': '__main__',\n",
       " '__package__': None,\n",
       " '__spec__': None,\n",
       " '_dh': ['/home/praveen/PythonPrograms/JosePortilla_Python_Course'],\n",
       " '_i': 'globals()',\n",
       " '_i1': 'x=5\\ndef hello():\\n    print(f\"Global X:{global.x}\")\\nhello()',\n",
       " '_i10': '#global x \\nx=\"Hello\"\\ndef sayHello():\\n    print(f\"{x}\")\\n    global x\\n    x=\"Sammy\"\\n    print(f\"{x}\")\\nsayHello()\\nprint(f\"{x}\")',\n",
       " '_i11': '#global x \\nx=\"Hello\"\\ndef sayHello():\\n    #print(f\"{x}\")\\n    global x\\n    x=\"Sammy\"\\n    print(f\"{x}\")\\nsayHello()\\nprint(f\"{x}\")',\n",
       " '_i12': '#global x\\nx=\"Hello\"\\ndef sayHello():\\n    print(f\"{x}\")\\nsayHello()',\n",
       " '_i13': 'globals()\\nlocals()',\n",
       " '_i14': 'globals()\\nprint(\"=\"*50)\\nprint(\"=\"*50)\\nlocals()',\n",
       " '_i15': 'globals()',\n",
       " '_i16': 'print(\"=\"*50)\\nprint(\"=\"*50)\\nlocals()',\n",
       " '_i2': 'x=5\\ndef hello():\\n    print(f\"Global X:{global x}\")\\nhello()',\n",
       " '_i3': 'x=5\\ndef hello():\\n    global x\\n    print(f\"Global X:{x}\")\\nhello()',\n",
       " '_i4': 'x=5\\ndef hello():\\n    global x\\n    x=2\\n    print(f\"Global X:{x}\")\\nhello()\\nprint(x)',\n",
       " '_i5': 'global x=\"Hello\"\\ndef sayHello():\\n    print(f\"{x}\")\\nsayHello()',\n",
       " '_i6': 'global x \\nx=\"Hello\"\\ndef sayHello():\\n    print(f\"{x}\")\\nsayHello()',\n",
       " '_i7': 'global x \\nx=\"Hello\"\\ndef sayHello():\\n    print(f\"{x}\")\\n    x=\"Sammy\"\\n    print(f\"{x}\")\\nsayHello()\\nprint(f\"{x}\")',\n",
       " '_i8': '#global x \\nx=\"Hello\"\\ndef sayHello():\\n    print(f\"{x}\")\\n #   x=\"Sammy\"\\n  #  print(f\"{x}\")\\nsayHello()\\nprint(f\"{x}\")',\n",
       " '_i9': '#global x \\nx=\"Hello\"\\ndef sayHello():\\n    print(f\"{x}\")\\n    x=\"Sammy\"\\n    print(f\"{x}\")\\nsayHello()\\nprint(f\"{x}\")',\n",
       " '_ih': ['',\n",
       "  'x=5\\ndef hello():\\n    print(f\"Global X:{global.x}\")\\nhello()',\n",
       "  'x=5\\ndef hello():\\n    print(f\"Global X:{global x}\")\\nhello()',\n",
       "  'x=5\\ndef hello():\\n    global x\\n    print(f\"Global X:{x}\")\\nhello()',\n",
       "  'x=5\\ndef hello():\\n    global x\\n    x=2\\n    print(f\"Global X:{x}\")\\nhello()\\nprint(x)',\n",
       "  'global x=\"Hello\"\\ndef sayHello():\\n    print(f\"{x}\")\\nsayHello()',\n",
       "  'global x \\nx=\"Hello\"\\ndef sayHello():\\n    print(f\"{x}\")\\nsayHello()',\n",
       "  'global x \\nx=\"Hello\"\\ndef sayHello():\\n    print(f\"{x}\")\\n    x=\"Sammy\"\\n    print(f\"{x}\")\\nsayHello()\\nprint(f\"{x}\")',\n",
       "  '#global x \\nx=\"Hello\"\\ndef sayHello():\\n    print(f\"{x}\")\\n #   x=\"Sammy\"\\n  #  print(f\"{x}\")\\nsayHello()\\nprint(f\"{x}\")',\n",
       "  '#global x \\nx=\"Hello\"\\ndef sayHello():\\n    print(f\"{x}\")\\n    x=\"Sammy\"\\n    print(f\"{x}\")\\nsayHello()\\nprint(f\"{x}\")',\n",
       "  '#global x \\nx=\"Hello\"\\ndef sayHello():\\n    print(f\"{x}\")\\n    global x\\n    x=\"Sammy\"\\n    print(f\"{x}\")\\nsayHello()\\nprint(f\"{x}\")',\n",
       "  '#global x \\nx=\"Hello\"\\ndef sayHello():\\n    #print(f\"{x}\")\\n    global x\\n    x=\"Sammy\"\\n    print(f\"{x}\")\\nsayHello()\\nprint(f\"{x}\")',\n",
       "  '#global x\\nx=\"Hello\"\\ndef sayHello():\\n    print(f\"{x}\")\\nsayHello()',\n",
       "  'globals()\\nlocals()',\n",
       "  'globals()\\nprint(\"=\"*50)\\nprint(\"=\"*50)\\nlocals()',\n",
       "  'globals()',\n",
       "  'print(\"=\"*50)\\nprint(\"=\"*50)\\nlocals()'],\n",
       " '_ii': 'globals()\\nprint(\"=\"*50)\\nprint(\"=\"*50)\\nlocals()',\n",
       " '_iii': 'globals()\\nlocals()',\n",
       " '_oh': {13: {...}, 14: {...}, 15: {...}},\n",
       " 'exit': <IPython.core.autocall.ZMQExitAutocall at 0x7fc3559afeb8>,\n",
       " 'get_ipython': <bound method InteractiveShell.get_ipython of <ipykernel.zmqshell.ZMQInteractiveShell object at 0x7fc3559e8550>>,\n",
       " 'hello': <function __main__.hello>,\n",
       " 'quit': <IPython.core.autocall.ZMQExitAutocall at 0x7fc3559afeb8>,\n",
       " 'sayHello': <function __main__.sayHello>,\n",
       " 'x': 'Hello'}"
      ]
     },
     "execution_count": 16,
     "metadata": {},
     "output_type": "execute_result"
    }
   ],
   "source": [
    "print(\"=\"*50)\n",
    "print(\"=\"*50)\n",
    "locals()"
   ]
  },
  {
   "cell_type": "code",
   "execution_count": null,
   "metadata": {
    "collapsed": true
   },
   "outputs": [],
   "source": []
  }
 ],
 "metadata": {
  "kernelspec": {
   "display_name": "Python 3",
   "language": "python",
   "name": "python3"
  },
  "language_info": {
   "codemirror_mode": {
    "name": "ipython",
    "version": 3
   },
   "file_extension": ".py",
   "mimetype": "text/x-python",
   "name": "python",
   "nbconvert_exporter": "python",
   "pygments_lexer": "ipython3",
   "version": "3.6.3"
  }
 },
 "nbformat": 4,
 "nbformat_minor": 2
}
