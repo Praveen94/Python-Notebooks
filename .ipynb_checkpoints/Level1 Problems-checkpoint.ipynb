{
 "cells": [
  {
   "cell_type": "code",
   "execution_count": 1,
   "metadata": {
    "collapsed": true
   },
   "outputs": [],
   "source": [
    "def old_macdonald(name):\n",
    "    newName=name[0:3].capitalize()+name[3].upper()+name[4:]\n",
    "    print(newName)\n"
   ]
  },
  {
   "cell_type": "code",
   "execution_count": 2,
   "metadata": {},
   "outputs": [
    {
     "name": "stdout",
     "output_type": "stream",
     "text": [
      "MacDonald\n"
     ]
    }
   ],
   "source": [
    "old_macdonald(\"macdonald\")"
   ]
  },
  {
   "cell_type": "code",
   "execution_count": 3,
   "metadata": {},
   "outputs": [
    {
     "name": "stdout",
     "output_type": "stream",
     "text": [
      "PraVeen\n"
     ]
    }
   ],
   "source": [
    "old_macdonald(\"Praveen\")"
   ]
  },
  {
   "cell_type": "code",
   "execution_count": 5,
   "metadata": {
    "collapsed": true
   },
   "outputs": [],
   "source": [
    "def master_yoda(my_string):\n",
    "    my_list=my_string.split()\n",
    "    print(\" \".join(my_list[::-1]))"
   ]
  },
  {
   "cell_type": "code",
   "execution_count": 6,
   "metadata": {},
   "outputs": [
    {
     "name": "stdout",
     "output_type": "stream",
     "text": [
      "home am I\n"
     ]
    }
   ],
   "source": [
    "master_yoda(\"I am home\")"
   ]
  },
  {
   "cell_type": "code",
   "execution_count": 7,
   "metadata": {},
   "outputs": [
    {
     "name": "stdout",
     "output_type": "stream",
     "text": [
      "ready are We\n"
     ]
    }
   ],
   "source": [
    "master_yoda('We are ready')"
   ]
  },
  {
   "cell_type": "code",
   "execution_count": 8,
   "metadata": {},
   "outputs": [
    {
     "name": "stdout",
     "output_type": "stream",
     "text": [
      "True\n"
     ]
    }
   ],
   "source": [
    "def almost_there(num):\n",
    "    if num in range(90,111):\n",
    "        return True\n",
    "    elif num in range(190,211):\n",
    "        return True\n",
    "    else:\n",
    "        return False\n",
    "print(almost_there(104))"
   ]
  },
  {
   "cell_type": "code",
   "execution_count": 9,
   "metadata": {},
   "outputs": [
    {
     "data": {
      "text/plain": [
       "False"
      ]
     },
     "execution_count": 9,
     "metadata": {},
     "output_type": "execute_result"
    }
   ],
   "source": [
    "almost_there(150)"
   ]
  },
  {
   "cell_type": "code",
   "execution_count": 10,
   "metadata": {},
   "outputs": [
    {
     "data": {
      "text/plain": [
       "True"
      ]
     },
     "execution_count": 10,
     "metadata": {},
     "output_type": "execute_result"
    }
   ],
   "source": [
    "almost_there(209)"
   ]
  },
  {
   "cell_type": "code",
   "execution_count": 1,
   "metadata": {},
   "outputs": [
    {
     "name": "stdout",
     "output_type": "stream",
     "text": [
      "18\n",
      "BUST\n",
      "19\n"
     ]
    }
   ],
   "source": [
    "def blackjack(a,b,c):\n",
    "    sum=a+b+c\n",
    "    if sum<=21:\n",
    "        return sum\n",
    "    if sum>21 and (a==11 or b==11 or c==11):\n",
    "        return sum-10\n",
    "    else:\n",
    "        return \"BUST\"\n",
    "print(blackjack(5,6,7))\n",
    "print(blackjack(9,9,9))\n",
    "print(blackjack(9,9,11))\n"
   ]
  },
  {
   "cell_type": "code",
   "execution_count": 11,
   "metadata": {},
   "outputs": [
    {
     "name": "stdout",
     "output_type": "stream",
     "text": [
      "9\n",
      "9\n",
      "14\n"
     ]
    }
   ],
   "source": [
    "def summer_69(arr):\n",
    "    \n",
    "    if 6 not in arr:\n",
    "        return findSum(arr)\n",
    "    else:\n",
    "        index_6=arr.index(6)\n",
    "        index_9=arr.index(9)\n",
    "        for i in range(index_6,index_9+1):\n",
    "            arr.pop(index_6)\n",
    "        return findSum(arr)\n",
    "    \n",
    "\n",
    "def findSum(arr):\n",
    "    sum=0\n",
    "    for num in arr:\n",
    "            sum+=num\n",
    "    return sum\n",
    "    \n",
    "    \n",
    "    \n",
    "print(summer_69([1, 3, 5]))\n",
    "print(summer_69([4, 5, 6, 7, 8, 9]))\n",
    "print(summer_69([2, 1, 6, 9, 11]))"
   ]
  },
  {
   "cell_type": "code",
   "execution_count": 16,
   "metadata": {},
   "outputs": [
    {
     "name": "stdout",
     "output_type": "stream",
     "text": [
      "True\n",
      "True\n",
      "False\n"
     ]
    }
   ],
   "source": [
    "def spy_game(nums):\n",
    "     if 0 in nums:\n",
    "        indexF0=nums.index(0)\n",
    "        if 0 in nums[indexF0+1:]:\n",
    "            if 7 in nums[indexF0+1:]:\n",
    "                indexS0=nums[indexF0+1:].index(0)\n",
    "                index7=nums[indexF0+1:].index(7)\n",
    "                if indexS0<index7:\n",
    "                    return True\n",
    "                else:\n",
    "                    return False\n",
    "            else:\n",
    "                return False\n",
    "        else:\n",
    "            return False\n",
    "     else:\n",
    "        return False\n",
    "    \n",
    "if spy_game([1,2,4,0,0,7,5])==True:\n",
    "    print(\"True\")\n",
    "else:\n",
    "    print(\"False\")\n",
    "if spy_game([1,0,2,4,0,5,7])==True:\n",
    "    print(\"True\")\n",
    "else:\n",
    "    print(\"False\")\n",
    "if spy_game([1,7,2,0,4,5,0])==True:\n",
    "    print(\"True\")\n",
    "else:\n",
    "    print(\"False\")\n"
   ]
  },
  {
   "cell_type": "code",
   "execution_count": 21,
   "metadata": {},
   "outputs": [
    {
     "name": "stdout",
     "output_type": "stream",
     "text": [
      "1229\n",
      "25\n"
     ]
    }
   ],
   "source": [
    "def count_primes(num):\n",
    "    prime=0\n",
    "    for i in range(3,num+1):#number\n",
    "        for j in range(2,i):#divisor\n",
    "            if i%j==0:\n",
    "                break\n",
    "        else:        # else executes only if for loop terminates without break\n",
    "            prime+=1\n",
    "    print(prime+1)\n",
    "count_primes(10000)\n",
    "count_primes(100)\n",
    "            "
   ]
  },
  {
   "cell_type": "code",
   "execution_count": null,
   "metadata": {
    "collapsed": true
   },
   "outputs": [],
   "source": []
  }
 ],
 "metadata": {
  "kernelspec": {
   "display_name": "Python 3",
   "language": "python",
   "name": "python3"
  },
  "language_info": {
   "codemirror_mode": {
    "name": "ipython",
    "version": 3
   },
   "file_extension": ".py",
   "mimetype": "text/x-python",
   "name": "python",
   "nbconvert_exporter": "python",
   "pygments_lexer": "ipython3",
   "version": "3.6.3"
  }
 },
 "nbformat": 4,
 "nbformat_minor": 2
}
