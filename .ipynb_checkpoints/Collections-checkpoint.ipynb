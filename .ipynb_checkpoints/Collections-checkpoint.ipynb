{
 "cells": [
  {
   "cell_type": "markdown",
   "metadata": {},
   "source": [
    "<h3>Collections Module</h3>\n",
    "<p>The collections module is a built-in module that implements specialized container data types providing alternatives to Python’s general purpose built-in containers. We've already gone over the basics: dict, list, set, and tuple.</p>\n",
    "<h4>Counter</h4>\n",
    "<p>Counter is a dict subclass which helps count hashable objects. Inside of it elements are stored as dictionary keys and the counts of the objects are stored as the value.</p>"
   ]
  },
  {
   "cell_type": "code",
   "execution_count": 18,
   "metadata": {},
   "outputs": [
    {
     "name": "stdout",
     "output_type": "stream",
     "text": [
      "I love my Father my Mother and my Brother\n",
      "Counter({'my': 3, 'I': 1, 'love': 1, 'Father': 1, 'Mother': 1, 'and': 1, 'Brother': 1})\n"
     ]
    }
   ],
   "source": [
    "from collections import Counter\n",
    "s=\",,,,,,,I love my Father my Mother and my Brother,,,,,,\"\n",
    "print(s.strip(\",\"))\n",
    "words=s.strip(\",\").split()\n",
    "print(Counter(words))"
   ]
  },
  {
   "cell_type": "code",
   "execution_count": 11,
   "metadata": {},
   "outputs": [
    {
     "name": "stdout",
     "output_type": "stream",
     "text": [
      "True\n",
      "Counter({'s': 8, 'd': 6, 'n': 7, 'k': 5, 'f': 10, 'c': 6, 'j': 3, 'a': 2, 'w': 6, 'g': 1, 'b': 5, 'v': 7, 'y': 3, 'e': 5, 't': 2, 'h': 5, 'u': 1, 'r': 2, 'apple': 'Healthy'})\n",
      "['s', 'd', 'n', 'k', 'f', 'c', 'j', 'a', 'w', 'g', 'b', 'v', 'y', 'e', 't', 'h', 'u', 'r', 'apple']\n"
     ]
    }
   ],
   "source": [
    "from collections import Counter\n",
    "random_string=\"sdnkfnksncnjawjsgwsbawcwvyevcyewfsytbfchevecddfknfsffnkjhdvkusefdbhvfbwrhnrhbvvcdsft\"\n",
    "c=Counter(random_string)\n",
    "print(len(random_string)==sum(c.values()))\n",
    "c[\"apple\"]=\"Healthy\" # Just behaves like a regular dictionary\n",
    "print(c)\n",
    "print(list(c)) # lists unique elements"
   ]
  },
  {
   "cell_type": "markdown",
   "metadata": {},
   "source": [
    "<pre><h4>Common patterns when using the Counter() object</h4>\n",
    "sum(c.values())                 # total of all counts\n",
    "c.clear()                       # reset all counts\n",
    "list(c)                         # list unique elements\n",
    "set(c)                          # convert to a set\n",
    "dict(c)                         # convert to a regular dictionary\n",
    "c.items()                       # convert to a list of (elem, cnt) pairs\n",
    "Counter(dict(list_of_pairs))    # convert from a list of (elem, cnt) pairs\n",
    "c.most_common()[:-n-1:-1]       # n least common elements\n",
    "c += Counter()                  # remove zero and negative counts\n",
    "</pre>"
   ]
  },
  {
   "cell_type": "markdown",
   "metadata": {},
   "source": [
    "<h4>defaultdict</h4>\n",
    "<p>defaultdict is a dictionary-like object which provides all methods provided by a dictionary but takes a first argument (default_factory) as a default data type for the dictionary. Using defaultdict is faster than doing the same using dict.set_default method.</p>\n",
    "<p><strong>\n",
    "A defaultdict will never raise a KeyError. Any key that does not exist gets the value returned by the default factory.\n",
    "</strong></p>"
   ]
  },
  {
   "cell_type": "code",
   "execution_count": 13,
   "metadata": {},
   "outputs": [
    {
     "name": "stdout",
     "output_type": "stream",
     "text": [
      "<object object at 0x7efd0d4690a0>\n",
      "<object object at 0x7efd0d469090>\n",
      "defaultdict(<class 'object'>, {'one': <object object at 0x7efd0d4690a0>, 'nfnd': <object object at 0x7efd0d469090>})\n"
     ]
    }
   ],
   "source": [
    "from collections import defaultdict\n",
    "d  = defaultdict(object)\n",
    "print(d[\"one\"])\n",
    "print(d[\"nfnd\"])\n",
    "print(d)"
   ]
  },
  {
   "cell_type": "markdown",
   "metadata": {},
   "source": [
    "<p>Can also initialize with default values:</p>"
   ]
  },
  {
   "cell_type": "code",
   "execution_count": 12,
   "metadata": {},
   "outputs": [
    {
     "name": "stdout",
     "output_type": "stream",
     "text": [
      "0\n",
      "0\n",
      "defaultdict(<function <lambda> at 0x7efd0cb30840>, {'one': 0, 'two': 0})\n"
     ]
    }
   ],
   "source": [
    "a= defaultdict(lambda: 0)\n",
    "print(a['one'])\n",
    "print(a['two'])\n",
    "print(a)"
   ]
  },
  {
   "cell_type": "markdown",
   "metadata": {
    "collapsed": true
   },
   "source": [
    "<h3>OrderedDict</h3>\n",
    "<p>An OrderedDict is a dictionary subclass that remembers the order in which its contents are added.</p>"
   ]
  },
  {
   "cell_type": "code",
   "execution_count": 22,
   "metadata": {},
   "outputs": [
    {
     "name": "stdout",
     "output_type": "stream",
     "text": [
      "OrderedDict([('c', 'c'), ('b', 'b'), ('a', 'a')])\n",
      "\n",
      "dict_keys(['apple', 'orange', 'lemon'])\n",
      "{'apple': 'Apple is good for health', 'orange': 'Citrus Blast and Tangy', 'lemon': 'Sweet and Sour'}\n"
     ]
    }
   ],
   "source": [
    "from collections import OrderedDict\n",
    "ordered_dict=OrderedDict()\n",
    "ordered_dict[\"c\"]=\"c\"\n",
    "ordered_dict[\"b\"]=\"b\"\n",
    "ordered_dict[\"a\"]=\"a\"\n",
    "print(ordered_dict)\n",
    "my_dict={}\n",
    "my_dict[\"apple\"]=\"Apple is good for health\"\n",
    "my_dict[\"orange\"]=\"Citrus Blast and Tangy\"\n",
    "my_dict[\"lemon\"]=\"Sweet and Sour\"\n",
    "print()\n",
    "print(my_dict.keys())\n",
    "print(my_dict)\n"
   ]
  },
  {
   "cell_type": "code",
   "execution_count": 6,
   "metadata": {},
   "outputs": [
    {
     "name": "stdout",
     "output_type": "stream",
     "text": [
      "True\n",
      "\n",
      "dict_items([('apple', 'Apple is good for your health'), ('orange', 'Orange boosts your immune system')])\n",
      "dict_items([('apple', 'Apple is good for your health'), ('orange', 'Orange boosts your immune system')])\n"
     ]
    }
   ],
   "source": [
    "d1={}\n",
    "d1[\"apple\"]=\"Apple is good for your health\"\n",
    "d1[\"orange\"]=\"Orange boosts your immune system\"\n",
    "d2={}\n",
    "d2[\"orange\"]=\"Orange boosts your immune system\"\n",
    "d2[\"apple\"]=\"Apple is good for your health\"\n",
    "print(d1==d2) # In normal dictionary only the contents are checked when testing for equality\n",
    "print()\n",
    "print(d1.items())\n",
    "print(d1.items())"
   ]
  },
  {
   "cell_type": "code",
   "execution_count": 7,
   "metadata": {},
   "outputs": [
    {
     "name": "stdout",
     "output_type": "stream",
     "text": [
      "False\n",
      "\n",
      "d1\n",
      "OrderedDict([('apple', 'Apple is good for your health'), ('orange', 'Orange boosts your immune system')])\n",
      "d2\n",
      "OrderedDict([('orange', 'Orange boosts your immune system'), ('apple', 'Apple is good for your health')])\n"
     ]
    }
   ],
   "source": [
    "from collections import OrderedDict\n",
    "d1=OrderedDict()\n",
    "d1[\"apple\"]=\"Apple is good for your health\"\n",
    "d1[\"orange\"]=\"Orange boosts your immune system\"\n",
    "d2=OrderedDict()\n",
    "d2[\"orange\"]=\"Orange boosts your immune system\"\n",
    "d2[\"apple\"]=\"Apple is good for your health\"\n",
    "print(d1==d2) # In an ordered dictionary the order of the contents are also checked when testing for equality.\n",
    "print()\n",
    "print(\"d1\")\n",
    "print(d1)\n",
    "print(\"d2\")\n",
    "print(d2)"
   ]
  },
  {
   "cell_type": "markdown",
   "metadata": {},
   "source": [
    "<h3>Named Tuple</h3>\n",
    "<p>\n",
    "The standard tuple uses numerical indexes to access its members.For simple use cases, this is usually enough. On the other hand, remembering which index should be used for each value can lead to errors, especially if the tuple has a lot of fields and is constructed far from where it is used. A namedtuple assigns names, as well as the numerical index, to each member.\n",
    "</p>\n",
    "<p>\n",
    "Each kind of namedtuple is represented by its own class, created by using the namedtuple() factory function. The arguments are the name of the new class and a string containing the names of the elements.\n",
    "</p>\n",
    "<p>\n",
    "You can basically think of namedtuples as a very quick way of creating a new object/class type with some attribute fields.\n",
    "\n",
    "</p>"
   ]
  },
  {
   "cell_type": "markdown",
   "metadata": {},
   "source": [
    "<p>We construct the namedtuple by first passing the object type name (Dog) and then passing a string with the variety of fields as a string with spaces between the field names. We can then call on the various attributes.</p>"
   ]
  },
  {
   "cell_type": "code",
   "execution_count": 14,
   "metadata": {},
   "outputs": [
    {
     "name": "stdout",
     "output_type": "stream",
     "text": [
      "Sam\n",
      "2\n",
      "Black\n",
      "\n",
      "Dog(name='Frank', age=4, color='White')\n"
     ]
    }
   ],
   "source": [
    "from collections import namedtuple\n",
    "Dog=namedtuple(\"Dog\",\"name age color\") # calling namedtuple factory function to create a namedtuple class.\n",
    "sam=Dog(name=\"Sam\",age=2,color=\"Black\")\n",
    "frank=Dog(name=\"Frank\",age=4,color=\"White\")\n",
    "print(sam[0])\n",
    "print(sam[1])\n",
    "print(sam.color)\n",
    "print()\n",
    "print(frank)\n"
   ]
  },
  {
   "cell_type": "code",
   "execution_count": 4,
   "metadata": {},
   "outputs": [
    {
     "name": "stdout",
     "output_type": "stream",
     "text": [
      "Tesla\n",
      "Grey\n",
      "\n",
      "Car(name='Honda', model='City', color='Black')\n"
     ]
    }
   ],
   "source": [
    "from collections import namedtuple\n",
    "Car=namedtuple(\"Car\",\"name model color\")\n",
    "tesla=Car(name=\"Tesla\",model=\"S\",color=\"Grey\")\n",
    "honda=Car(name=\"Honda\",model=\"City\",color=\"Black\")\n",
    "print(tesla[0])\n",
    "print(tesla.color)\n",
    "print()\n",
    "print(honda)"
   ]
  },
  {
   "cell_type": "code",
   "execution_count": null,
   "metadata": {
    "collapsed": true
   },
   "outputs": [],
   "source": []
  }
 ],
 "metadata": {
  "kernelspec": {
   "display_name": "Python 3",
   "language": "python",
   "name": "python3"
  },
  "language_info": {
   "codemirror_mode": {
    "name": "ipython",
    "version": 3
   },
   "file_extension": ".py",
   "mimetype": "text/x-python",
   "name": "python",
   "nbconvert_exporter": "python",
   "pygments_lexer": "ipython3",
   "version": "3.6.3"
  }
 },
 "nbformat": 4,
 "nbformat_minor": 2
}
