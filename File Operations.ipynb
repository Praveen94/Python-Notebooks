{
 "cells": [
  {
   "cell_type": "code",
   "execution_count": 3,
   "metadata": {},
   "outputs": [
    {
     "name": "stdout",
     "output_type": "stream",
     "text": [
      "['Musk was born on June 28, 1971, in Pretoria, Transvaal, South Africa,[29] the son of Maye Musk (née Haldeman), a model and dietician from Regina, Saskatchewan, Canada,[30] and Errol Musk, a South African electromechanical engineer, pilot, and sailor. He has a younger brother, Kimbal (born 1972), and a younger sister, Tosca (born 1974).[34] His paternal grandmother was British, and he also has Pennsylvania Dutch ancestry.[35][36] His maternal grandfather was American, from Minnesota.[37] After his parents divorced in 1980, Musk lived mostly with his father in the suburbs of Pretoria,[35] which Musk chose two years after his parents split up, but now says was \"not a good idea\".[38] As an adult, Musk has severed relations with his father.[38] He has a half sister.[39]\\n']\n"
     ]
    }
   ],
   "source": [
    "with open(\"/home/praveen/Desktop/sample.txt\") as f:\n",
    "    file=f.readlines()\n",
    "    print(file)\n",
    "    "
   ]
  },
  {
   "cell_type": "code",
   "execution_count": 4,
   "metadata": {},
   "outputs": [
    {
     "name": "stdout",
     "output_type": "stream",
     "text": [
      "Musk was born on June 28, 1971, in Pretoria, Transvaal, South Africa,[29] the son of Maye Musk (née Haldeman), a model and dietician from Regina, Saskatchewan, Canada,[30] and Errol Musk, a South African electromechanical engineer, pilot, and sailor. He has a younger brother, Kimbal (born 1972), and a younger sister, Tosca (born 1974).[34] His paternal grandmother was British, and he also has Pennsylvania Dutch ancestry.[35][36] His maternal grandfather was American, from Minnesota.[37] After his parents divorced in 1980, Musk lived mostly with his father in the suburbs of Pretoria,[35] which Musk chose two years after his parents split up, but now says was \"not a good idea\".[38] As an adult, Musk has severed relations with his father.[38] He has a half sister.[39]\n",
      "\n"
     ]
    }
   ],
   "source": [
    "with open(\"/home/praveen/Desktop/sample.txt\") as f:\n",
    "    file=f.readline()\n",
    "    print(file)\n",
    "    "
   ]
  },
  {
   "cell_type": "code",
   "execution_count": 5,
   "metadata": {},
   "outputs": [
    {
     "name": "stdout",
     "output_type": "stream",
     "text": [
      "Musk was born on June 28, 1971, in Pretoria, Transvaal, South Africa,[29] the son of Maye Musk (née Haldeman), a model and dietician from Regina, Saskatchewan, Canada,[30] and Errol Musk, a South African electromechanical engineer, pilot, and sailor. He has a younger brother, Kimbal (born 1972), and a younger sister, Tosca (born 1974).[34] His paternal grandmother was British, and he also has Pennsylvania Dutch ancestry.[35][36] His maternal grandfather was American, from Minnesota.[37] After his parents divorced in 1980, Musk lived mostly with his father in the suburbs of Pretoria,[35] which Musk chose two years after his parents split up, but now says was \"not a good idea\".[38] As an adult, Musk has severed relations with his father.[38] He has a half sister.[39]\n",
      "\n"
     ]
    }
   ],
   "source": [
    "with open(\"/home/praveen/Desktop/sample.txt\") as f:\n",
    "    file=f.read()\n",
    "    print(file)\n",
    "    "
   ]
  },
  {
   "cell_type": "code",
   "execution_count": 9,
   "metadata": {},
   "outputs": [
    {
     "name": "stdout",
     "output_type": "stream",
     "text": [
      "Musk was born on June 28, 1971, in Pretoria, Transvaal, South Africa,[29] \n",
      "the son of Maye Musk (née Haldeman), a model and dietician from \n",
      "Regina, Saskatchewan, Canada,[30] and Errol Musk, \n",
      "a South African electromechanical engineer, pilot, and sailor. \n",
      "He has a younger brother, Kimbal (born 1972), and a younger sister, \n",
      "Tosca (born 1974).[34] His paternal grandmother was British, and \n",
      "he also has Pennsylvania Dutch ancestry.[35][36] His maternal \n",
      "grandfather was American, from Minnesota.[37] After his parents\n",
      "divorced in 1980, Musk lived mostly with his father in the suburbs \n",
      "of Pretoria,[35] which Musk chose two years after his parents \n",
      "split up, but now says was \"not a good idea\".[38] As an adult, \n",
      "Musk has severed relations with his father.[38] He has a half sister.[39]\n"
     ]
    }
   ],
   "source": [
    "with open(\"/home/praveen/Desktop/sample.txt\") as f:\n",
    "    line=f.readline()\n",
    "    while line:\n",
    "        print(line,end='')\n",
    "        line=f.readline()\n",
    "        \n",
    "\n",
    "    "
   ]
  },
  {
   "cell_type": "code",
   "execution_count": 1,
   "metadata": {},
   "outputs": [
    {
     "name": "stdout",
     "output_type": "stream",
     "text": [
      "Musk was born on June 28, 1971, in Pretoria, Transvaal, South Africa,[29] \n",
      "\n",
      "the son of Maye Musk (née Haldeman), a model and dietician from \n",
      "\n",
      "Regina, Saskatchewan, Canada,[30] and Errol Musk, \n",
      "\n",
      "a South African electromechanical engineer, pilot, and sailor. \n",
      "\n",
      "He has a younger brother, Kimbal (born 1972), and a younger sister, \n",
      "\n",
      "Tosca (born 1974).[34] His paternal grandmother was British, and \n",
      "\n",
      "he also has Pennsylvania Dutch ancestry.[35][36] His maternal \n",
      "\n",
      "grandfather was American, from Minnesota.[37] After his parents\n",
      "\n",
      "divorced in 1980, Musk lived mostly with his father in the suburbs \n",
      "\n",
      "of Pretoria,[35] which Musk chose two years after his parents \n",
      "\n",
      "split up, but now says was \"not a good idea\".[38] As an adult, \n",
      "\n",
      "Musk has severed relations with his father.[38] He has a half sister.[39]\n",
      "\n"
     ]
    }
   ],
   "source": [
    "with open(\"/home/praveen/Desktop/sample.txt\") as f:\n",
    "    line=f.readline()\n",
    "    while line:\n",
    "        print(line,end='\\n')\n",
    "        line=f.readline()\n",
    "       \n",
    "    "
   ]
  },
  {
   "cell_type": "code",
   "execution_count": 4,
   "metadata": {
    "collapsed": true
   },
   "outputs": [],
   "source": [
    "with open(\"/home/praveen/Desktop/sample.txt\",\"w\") as f:\n",
    "    f.write(\"This is a sample file\")                      # Overwriting a file\n",
    "    "
   ]
  },
  {
   "cell_type": "code",
   "execution_count": 5,
   "metadata": {},
   "outputs": [
    {
     "name": "stdout",
     "output_type": "stream",
     "text": [
      "This is a sample file\n"
     ]
    }
   ],
   "source": [
    "with open(\"/home/praveen/Desktop/sample.txt\") as f:\n",
    "    file=f.read()\n",
    "    print(file)"
   ]
  },
  {
   "cell_type": "code",
   "execution_count": 11,
   "metadata": {
    "collapsed": true
   },
   "outputs": [],
   "source": [
    "with open(\"/home/praveen/Desktop/sample.txt\",\"w\") as f:\n",
    "    f.write(\"This is line 1\\nThis is line 2\\nThis is line 3\\nThis is line 4\")\n",
    "    "
   ]
  },
  {
   "cell_type": "code",
   "execution_count": 12,
   "metadata": {},
   "outputs": [
    {
     "name": "stdout",
     "output_type": "stream",
     "text": [
      "This is line 1\n",
      "\n",
      "This is line 2\n",
      "\n",
      "This is line 3\n",
      "\n",
      "This is line 4\n"
     ]
    }
   ],
   "source": [
    "for line in open(\"/home/praveen/Desktop/sample.txt\"): # By not calling .read() on the file, the whole text file was \n",
    "        print(line)                                   # not stored in memory.        "
   ]
  },
  {
   "cell_type": "code",
   "execution_count": 8,
   "metadata": {},
   "outputs": [
    {
     "name": "stdout",
     "output_type": "stream",
     "text": [
      "This is line 4\n"
     ]
    }
   ],
   "source": [
    "print(line)\n"
   ]
  },
  {
   "cell_type": "code",
   "execution_count": null,
   "metadata": {
    "collapsed": true
   },
   "outputs": [],
   "source": []
  }
 ],
 "metadata": {
  "kernelspec": {
   "display_name": "Python 3",
   "language": "python",
   "name": "python3"
  },
  "language_info": {
   "codemirror_mode": {
    "name": "ipython",
    "version": 3
   },
   "file_extension": ".py",
   "mimetype": "text/x-python",
   "name": "python",
   "nbconvert_exporter": "python",
   "pygments_lexer": "ipython3",
   "version": "3.6.3"
  }
 },
 "nbformat": 4,
 "nbformat_minor": 2
}
