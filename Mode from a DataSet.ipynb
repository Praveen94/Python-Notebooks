{
 "cells": [
  {
   "cell_type": "code",
   "execution_count": 1,
   "metadata": {},
   "outputs": [
    {
     "name": "stdout",
     "output_type": "stream",
     "text": [
      "5\n"
     ]
    }
   ],
   "source": [
    "data1=[1,2,5,10,-20,5,5,10,10] # Returns either 5 or 10 as mode\n",
    "def mode(data):\n",
    "    modecnt=0\n",
    "    for i in range(len(data)):\n",
    "        icount=data.count(data[i])\n",
    "        if icount>modecnt:\n",
    "            mode_data=data[i]\n",
    "            modecnt=icount\n",
    "    return mode_data\n",
    "print(mode(data1))"
   ]
  },
  {
   "cell_type": "code",
   "execution_count": 2,
   "metadata": {},
   "outputs": [
    {
     "name": "stdout",
     "output_type": "stream",
     "text": [
      "5\n"
     ]
    }
   ],
   "source": [
    "from collections import Counter\n",
    "data1=[1,2,5,10,-20,5,5,10,10]  # Returns either 5 or 10 as mode\n",
    "c=Counter(data1)\n",
    "print(c.most_common(1)[0][0])"
   ]
  },
  {
   "cell_type": "code",
   "execution_count": null,
   "metadata": {
    "collapsed": true
   },
   "outputs": [],
   "source": []
  }
 ],
 "metadata": {
  "kernelspec": {
   "display_name": "Python 3",
   "language": "python",
   "name": "python3"
  },
  "language_info": {
   "codemirror_mode": {
    "name": "ipython",
    "version": 3
   },
   "file_extension": ".py",
   "mimetype": "text/x-python",
   "name": "python",
   "nbconvert_exporter": "python",
   "pygments_lexer": "ipython3",
   "version": "3.6.3"
  }
 },
 "nbformat": 4,
 "nbformat_minor": 2
}
