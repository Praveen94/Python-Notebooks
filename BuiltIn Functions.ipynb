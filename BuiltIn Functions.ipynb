{
 "cells": [
  {
   "cell_type": "markdown",
   "metadata": {},
   "source": [
    "<h3>Built In Functions</h3>"
   ]
  },
  {
   "cell_type": "markdown",
   "metadata": {},
   "source": [
    "<h3>Map Function</h3>"
   ]
  },
  {
   "cell_type": "markdown",
   "metadata": {},
   "source": [
    "The asterisk * symbol is used to print every item in a collection, and the sep='\\n ' argument prints each item on a separate line."
   ]
  },
  {
   "cell_type": "code",
   "execution_count": 10,
   "metadata": {},
   "outputs": [
    {
     "name": "stdout",
     "output_type": "stream",
     "text": [
      "My favorite car is Tesla\n",
      "My favorite car is Audi\n",
      "My favorite car is BMW\n",
      "My favorite car is Lucid\n"
     ]
    }
   ],
   "source": [
    "car_list=[\"Tesla\",\"Audi\",\"BMW\",\"Lucid\"]\n",
    "def favorite(car):\n",
    "    return \"My favorite car is {}\".format(car)\n",
    "print(*list(map(favorite,car_list)),sep='\\n')"
   ]
  },
  {
   "cell_type": "markdown",
   "metadata": {},
   "source": [
    "<h4><u>map() returns an iterator object</u></h4>"
   ]
  },
  {
   "cell_type": "code",
   "execution_count": 12,
   "metadata": {},
   "outputs": [
    {
     "name": "stdout",
     "output_type": "stream",
     "text": [
      "My favorite car is Tesla\n",
      "My favorite car is Audi\n",
      "My favorite car is BMW\n",
      "My favorite car is Lucid\n"
     ]
    }
   ],
   "source": [
    "car_list=[\"Tesla\",\"Audi\",\"BMW\",\"Lucid\"]\n",
    "def favorite(car):\n",
    "    return \"My favorite car is {}\".format(car)\n",
    "\n",
    "#     return \"My favorite car is {}\".format(car)\n",
    "mapIterator=map(favorite,car_list)\n",
    "print(next(mapIterator))\n",
    "print(next(mapIterator))\n",
    "print(next(mapIterator))\n",
    "print(next(mapIterator))\n"
   ]
  },
  {
   "cell_type": "code",
   "execution_count": 40,
   "metadata": {},
   "outputs": [
    {
     "name": "stdout",
     "output_type": "stream",
     "text": [
      "2,4,6,8,10,12,14,16\n"
     ]
    }
   ],
   "source": [
    "nums=[1,2,3,4,5,6,7,8]\n",
    "multiples_of_2=list(map(lambda x:x*2,nums))\n",
    "print(*multiples_of_2,sep=\",\")"
   ]
  },
  {
   "cell_type": "markdown",
   "metadata": {},
   "source": [
    "<h4>The lambda operator or lambda function is a way to create small anonymous functions, i.e. functions without a name. These functions are throw-away functions, i.e. they are just needed where they have been created.</h4>"
   ]
  },
  {
   "cell_type": "code",
   "execution_count": 45,
   "metadata": {
    "collapsed": true
   },
   "outputs": [],
   "source": [
    "a=[1,2,3,4,5]\n",
    "b=[6,7,8,9,10]\n",
    "c=[11,12,13,14,15]\n",
    "sums=list(map(lambda x,y,z:x+y+z,a,b,c))"
   ]
  },
  {
   "cell_type": "code",
   "execution_count": 46,
   "metadata": {},
   "outputs": [
    {
     "name": "stdout",
     "output_type": "stream",
     "text": [
      "[18, 21, 24, 27, 30]\n"
     ]
    }
   ],
   "source": [
    "print(sums)"
   ]
  },
  {
   "cell_type": "markdown",
   "metadata": {
    "collapsed": true
   },
   "source": [
    "<h2>Reduce Function</h2>"
   ]
  },
  {
   "cell_type": "markdown",
   "metadata": {},
   "source": [
    "<h3>We keep reducing the sequence until a single final value is obtained.</h3>"
   ]
  },
  {
   "cell_type": "code",
   "execution_count": 4,
   "metadata": {},
   "outputs": [
    {
     "name": "stdout",
     "output_type": "stream",
     "text": [
      "45\n"
     ]
    }
   ],
   "source": [
    "from functools import reduce\n",
    "lst=[1,2,3,4,5,6,7,8,9]\n",
    "print(reduce(lambda x,y:x+y,lst))"
   ]
  },
  {
   "cell_type": "code",
   "execution_count": 6,
   "metadata": {},
   "outputs": [
    {
     "name": "stdout",
     "output_type": "stream",
     "text": [
      "I love my Father, Mother, and my Brother\n"
     ]
    }
   ],
   "source": [
    "from functools import reduce\n",
    "my_love=[\"I\",\" love\",\" my\",\" Father,\",\" Mother,\",\" and\",\" my\",\" Brother\"]\n",
    "print(reduce(lambda x,y:x+y,my_love))"
   ]
  },
  {
   "cell_type": "code",
   "execution_count": 9,
   "metadata": {},
   "outputs": [
    {
     "name": "stdout",
     "output_type": "stream",
     "text": [
      "I want to be an entrepreneur\n"
     ]
    }
   ],
   "source": [
    "from functools import reduce\n",
    "my_dream=[\"I\",\" want\",\" to\",\" be\",\" an\",\" entrepreneur\"]\n",
    "print(reduce(lambda x,y:x+y,my_dream))"
   ]
  },
  {
   "cell_type": "code",
   "execution_count": 12,
   "metadata": {},
   "outputs": [
    {
     "name": "stdout",
     "output_type": "stream",
     "text": [
      "9\n"
     ]
    }
   ],
   "source": [
    "# To find the max of the numbers\n",
    "max_num=lambda x,y:a if x>y else y\n",
    "print(reduce(max_num,lst))\n"
   ]
  },
  {
   "cell_type": "markdown",
   "metadata": {},
   "source": [
    "<h3>Filter</h3>\n",
    "<h5>filter() returns an iterator object similar to map() but it is different in its functionality.</h5>\n",
    "<p>The function filter(function, list) offers a convenient way to filter out all the elements of an iterable, for which the function returns True.\n",
    "\n",
    "The function filter(function,list) needs a function as its first argument. The function needs to return a Boolean value (either True or False). This function will be applied to every element of the iterable. Only if the function returns True will the element of the iterable be included in the result.\n",
    "\n",
    "Like map(), filter() returns an iterator - that is, filter yields one result at a time as needed.</p>"
   ]
  },
  {
   "cell_type": "code",
   "execution_count": 11,
   "metadata": {},
   "outputs": [
    {
     "name": "stdout",
     "output_type": "stream",
     "text": [
      "[2, 4, 6, 8]\n",
      "========================================\n",
      "2\n",
      "4\n",
      "6\n",
      "8\n"
     ]
    }
   ],
   "source": [
    "even_nums=lambda x:x%2==0 \n",
    "lst=[1,2,3,4,5,6,7,8,9]\n",
    "print(list(filter(even_nums,lst)))\n",
    "print(\"=\"*40)\n",
    "even_lst=filter(even_nums,lst)\n",
    "print(next(even_lst))\n",
    "print(next(even_lst))\n",
    "print(next(even_lst))\n",
    "print(next(even_lst))\n"
   ]
  },
  {
   "cell_type": "markdown",
   "metadata": {
    "collapsed": true
   },
   "source": [
    "<h3>Zip</h3>"
   ]
  },
  {
   "cell_type": "code",
   "execution_count": 15,
   "metadata": {},
   "outputs": [
    {
     "name": "stdout",
     "output_type": "stream",
     "text": [
      "I love a Tesla in Red color\n",
      "I love a Audi in Black color\n",
      "I love a BMW in Grey color\n",
      "I love a Lucid in SilverBrown color\n"
     ]
    }
   ],
   "source": [
    "car_list=[\"Tesla\",\"Audi\",\"BMW\",\"Lucid\"]\n",
    "colors=[\"Red\",\"Black\",\"Grey\",\"SilverBrown\"]\n",
    "mycar_list=[\"I love a \"+car+\" in \"+color+\" color\" for car,color in zip(car_list,colors)]\n",
    "print(*mycar_list,sep='\\n')\n"
   ]
  },
  {
   "cell_type": "code",
   "execution_count": 4,
   "metadata": {},
   "outputs": [
    {
     "name": "stdout",
     "output_type": "stream",
     "text": [
      "('Tesla',)\n",
      "('BMW',)\n",
      "('Benz',)\n",
      "('Audi',)\n"
     ]
    }
   ],
   "source": [
    "cars=[\"Tesla\",\"BMW\",\"Benz\",\"Audi\"]\n",
    "favcars=zip(cars) # Returns an iterator of 1-tuples\n",
    "print(next(favcars))\n",
    "print(next(favcars))\n",
    "print(next(favcars))\n",
    "print(next(favcars))"
   ]
  },
  {
   "cell_type": "code",
   "execution_count": 6,
   "metadata": {},
   "outputs": [
    {
     "name": "stdout",
     "output_type": "stream",
     "text": [
      "I love a Tesla in Red color\n",
      "I love a Audi in Black color\n",
      "I love a BMW in Grey color\n",
      "I love a Lucid in SilverBrown color\n"
     ]
    }
   ],
   "source": [
    "car_list=[\"Tesla\",\"Audi\",\"BMW\",\"Lucid\"]\n",
    "colors=[\"Red\",\"Black\",\"Grey\",\"SilverBrown\",\"This won't be printed as it stops when the shortest input iterable is exhausted\"]\n",
    "mycar_list=[\"I love a \"+car+\" in \"+color+\" color\" for car,color in zip(car_list,colors)]  # BTW for is an iterator\n",
    "print(*mycar_list,sep='\\n') # Both the iterables should be of the same length or size\n"
   ]
  },
  {
   "cell_type": "code",
   "execution_count": 8,
   "metadata": {},
   "outputs": [
    {
     "name": "stdout",
     "output_type": "stream",
     "text": [
      "Tesla\n",
      "Audi\n",
      "BMW\n",
      "Lucid\n"
     ]
    }
   ],
   "source": [
    "def multiTuples(*args):\n",
    "#   print(*args)\n",
    "    for arg in args:\n",
    "        print(arg)\n",
    "\n",
    "multiTuples(\"Tesla\",\"Audi\",\"BMW\",\"Lucid\")"
   ]
  },
  {
   "cell_type": "markdown",
   "metadata": {},
   "source": [
    "<h3><u>Zip with Dictionary:</u></h3>"
   ]
  },
  {
   "cell_type": "code",
   "execution_count": 9,
   "metadata": {},
   "outputs": [
    {
     "name": "stdout",
     "output_type": "stream",
     "text": [
      "[('apple', 'Tesla'), ('mango', 'BMW'), ('orange', 'Benz')]\n",
      "[('apple', 'Electric Sports Car'), ('mango', 'Sports Car'), ('orange', 'Luxury Car')]\n"
     ]
    }
   ],
   "source": [
    "fruits={\n",
    "    \"apple\":\"Red and Delicious\",\n",
    "    \"mango\":\"Sweet and Tangy\",\n",
    "    \"orange\":\"Sweet Citrus Blast\"\n",
    "}\n",
    "cars={\n",
    "    \"Tesla\":\"Electric Sports Car\",\n",
    "    \"BMW\":\"Sports Car\",\n",
    "    \"Benz\":\"Luxury Car\"\n",
    "}\n",
    "print(list(zip(fruits,cars)))\n",
    "print(list(zip(fruits,cars.values())))"
   ]
  },
  {
   "cell_type": "markdown",
   "metadata": {},
   "source": [
    "<h4>We can use zip() to switch the keys and values of the two dictionaries.</h4>"
   ]
  },
  {
   "cell_type": "code",
   "execution_count": 12,
   "metadata": {},
   "outputs": [
    {
     "name": "stdout",
     "output_type": "stream",
     "text": [
      "{'Apple': 'A must have computer', 'Raspberry': 'My Hobby Electronics', 'Blackberry': 'Wish I had a secure phone'}\n"
     ]
    }
   ],
   "source": [
    "# Swapping dictionary keys and values\n",
    "fruits={\n",
    "    \"Apple\":\"Red and Delicious\",\n",
    "    \"Raspberry\":\"Rose Fruit\",\n",
    "    \"Blackberry\":\"Black Fruit\"\n",
    "}\n",
    "devices={\n",
    "    \"Computer\":\"A must have computer\",\n",
    "    \"DIY\":\"My Hobby Electronics\",\n",
    "    \"Mobiles\":\"Wish I had a secure phone\"\n",
    "}\n",
    "\n",
    "def switcharoo(d1,d2):\n",
    "    dout={}\n",
    "    for fruit,device in zip(d1,d2.values()):\n",
    "        dout[fruit]=device\n",
    "    return dout\n",
    "print(switcharoo(fruits,devices))"
   ]
  },
  {
   "cell_type": "markdown",
   "metadata": {
    "collapsed": true
   },
   "source": [
    "<h3>Enumerate</h3>"
   ]
  },
  {
   "cell_type": "markdown",
   "metadata": {},
   "source": [
    "<p>Enumerate allows you to keep a count as you iterate through an object. It does this by returning a tuple in the form (count,element)</p>"
   ]
  },
  {
   "cell_type": "code",
   "execution_count": 4,
   "metadata": {},
   "outputs": [
    {
     "name": "stdout",
     "output_type": "stream",
     "text": [
      "1. Tesla\n",
      "2. Audi\n",
      "3. BMW\n",
      "4. Lucid\n"
     ]
    }
   ],
   "source": [
    "car_list=[\"Tesla\",\"Audi\",\"BMW\",\"Lucid\"]\n",
    "for num,car in enumerate(car_list,start=1):\n",
    "    print(str(num)+\". \"+car)\n"
   ]
  },
  {
   "cell_type": "code",
   "execution_count": 11,
   "metadata": {},
   "outputs": [
    {
     "name": "stdout",
     "output_type": "stream",
     "text": [
      "1. Tesla\n",
      "2. Audi\n"
     ]
    }
   ],
   "source": [
    "for num,car in enumerate(car_list,1):\n",
    "    if num>2:\n",
    "        break\n",
    "    print(str(num)+\". \"+car)\n",
    "    "
   ]
  },
  {
   "cell_type": "code",
   "execution_count": 13,
   "metadata": {},
   "outputs": [
    {
     "name": "stdout",
     "output_type": "stream",
     "text": [
      "Praveen\n",
      "Prithiveen\n"
     ]
    }
   ],
   "source": [
    "def printname(name=\"Prithiveen\"):\n",
    "    print(name)\n",
    "printname(name=\"Praveen\")\n",
    "printname()"
   ]
  },
  {
   "cell_type": "code",
   "execution_count": 14,
   "metadata": {},
   "outputs": [
    {
     "data": {
      "text/plain": [
       "[(3, 'March'), (4, 'April'), (5, 'May'), (6, 'June')]"
      ]
     },
     "execution_count": 14,
     "metadata": {},
     "output_type": "execute_result"
    }
   ],
   "source": [
    "months=[\"March\",\"April\",\"May\",\"June\"]\n",
    "list(enumerate(months,3))"
   ]
  },
  {
   "cell_type": "code",
   "execution_count": 29,
   "metadata": {},
   "outputs": [
    {
     "name": "stdout",
     "output_type": "stream",
     "text": [
      "29\n"
     ]
    }
   ],
   "source": [
    "class mango:\n",
    "    d=10 \n",
    "    @staticmethod\n",
    "    def func():\n",
    "        a=8\n",
    "        b=9\n",
    "        return a+b+mango.d\n",
    " \n",
    "def func2(x,y):\n",
    "    c=mango.func()\n",
    "    z=x+y+c\n",
    "    return z\n",
    " \n",
    "a=func2(1,1)\n",
    "print(a)"
   ]
  },
  {
   "cell_type": "markdown",
   "metadata": {},
   "source": [
    "<h3>All and Any</h3>"
   ]
  },
  {
   "cell_type": "code",
   "execution_count": 32,
   "metadata": {},
   "outputs": [
    {
     "data": {
      "text/plain": [
       "True"
      ]
     },
     "execution_count": 32,
     "metadata": {},
     "output_type": "execute_result"
    }
   ],
   "source": [
    "true_lst=[True]*10\n",
    "all(true_lst)"
   ]
  },
  {
   "cell_type": "code",
   "execution_count": 36,
   "metadata": {},
   "outputs": [
    {
     "name": "stdout",
     "output_type": "stream",
     "text": [
      "[True, False, True, False, True, False, True, False, True, False]\n",
      "True\n",
      "False\n"
     ]
    }
   ],
   "source": [
    "true_false_lst=[True,False]*5\n",
    "print(true_false_lst)\n",
    "print(any(true_false_lst))\n",
    "print(all(true_false_lst))"
   ]
  },
  {
   "cell_type": "code",
   "execution_count": null,
   "metadata": {
    "collapsed": true
   },
   "outputs": [],
   "source": []
  }
 ],
 "metadata": {
  "kernelspec": {
   "display_name": "Python 3",
   "language": "python",
   "name": "python3"
  },
  "language_info": {
   "codemirror_mode": {
    "name": "ipython",
    "version": 3
   },
   "file_extension": ".py",
   "mimetype": "text/x-python",
   "name": "python",
   "nbconvert_exporter": "python",
   "pygments_lexer": "ipython3",
   "version": "3.6.3"
  }
 },
 "nbformat": 4,
 "nbformat_minor": 2
}
