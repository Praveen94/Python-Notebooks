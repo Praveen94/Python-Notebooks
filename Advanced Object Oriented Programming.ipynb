{
 "cells": [
  {
   "cell_type": "markdown",
   "metadata": {},
   "source": [
    "<h3>Inheritance Revisited</h3>\n",
    "<p>Recall that with Inheritance, one or more derived classes can inherit attributes and methods from a base class. This reduces duplication, and means that any changes made to the base class will automatically translate to derived classes</p>"
   ]
  },
  {
   "cell_type": "code",
   "execution_count": 5,
   "metadata": {},
   "outputs": [
    {
     "name": "stdout",
     "output_type": "stream",
     "text": [
      "felix says Meow.\n",
      "bull says Bow.\n"
     ]
    }
   ],
   "source": [
    "class Animal:\n",
    "    def __init__(self,name):\n",
    "        self.name=name\n",
    "    \n",
    "    def speak(self):\n",
    "        raise NotImplementedError(\"Subclass must implement abstract method\")\n",
    "    \n",
    "class Cat(Animal):\n",
    "    def speak(self):\n",
    "        print(f\"{self.name} says Meow.\")\n",
    "        \n",
    "class Dog(Animal):\n",
    "    def speak(self):\n",
    "        print(f\"{self.name} says Bow.\")\n",
    "\n",
    "felix=Cat(\"felix\")\n",
    "bull=Dog(\"bull\")\n",
    "felix.speak()\n",
    "bull.speak()"
   ]
  },
  {
   "cell_type": "markdown",
   "metadata": {},
   "source": [
    "<p>In this example, the derived classes did not need their own __init__ methods because the base class __init__ gets called automatically. However, if you do define an __init__ in the derived class, this will override the base.</p>"
   ]
  },
  {
   "cell_type": "code",
   "execution_count": 7,
   "metadata": {},
   "outputs": [
    {
     "name": "stdout",
     "output_type": "stream",
     "text": [
      "Yogi\n",
      "4\n",
      "yes\n"
     ]
    }
   ],
   "source": [
    "class Animal:\n",
    "    def __init__(self,name,legs):\n",
    "        self.name=name\n",
    "        self.legs=legs\n",
    "\n",
    "class Bear(Animal):\n",
    "    def __init__(self,name,legs=4,hibernate=\"yes\"):\n",
    "        Animal.__init__(self,name,legs) # Call Animal.__init__ method from here\n",
    "        self.hibernate=hibernate\n",
    "\n",
    "yogi=Bear(\"Yogi\")\n",
    "print(yogi.name)\n",
    "print(yogi.legs)\n",
    "print(yogi.hibernate)"
   ]
  },
  {
   "cell_type": "code",
   "execution_count": 9,
   "metadata": {},
   "outputs": [
    {
     "name": "stdout",
     "output_type": "stream",
     "text": [
      "0\n",
      "0\n",
      "\n",
      "800\n"
     ]
    }
   ],
   "source": [
    "class Car:\n",
    "    def __init__(self,wheels=4):\n",
    "        self.wheels=wheels\n",
    "    \n",
    "class Gasoline(Car):\n",
    "    def __init__(self,engine=\"Gasoline\",tankcap=400): # When you create init in subclass call the base class __init__\n",
    "        Car.__init__(self)                            # as well.Since the method gets overrided.\n",
    "        self.engine=engine\n",
    "        self.tank=0\n",
    "        self.tankcap=tankcap\n",
    "    \n",
    "    def refuel(self):\n",
    "        self.tank=self.tankcap\n",
    "\n",
    "class Electric(Car):\n",
    "    def __init__(self,engine=\"Electric\",chargecap=800):\n",
    "        Car.__init__(self)\n",
    "        self.engine=engine\n",
    "        self.chargecap=chargecap\n",
    "        self.charge=0\n",
    "    \n",
    "    def recharge(self):\n",
    "        self.charge=self.chargecap\n",
    "\n",
    "\n",
    "class Hybrid(Gasoline,Electric):\n",
    "    def __init__(self,engine=\"Hybrid\",tank_cap=400,chargecap=800):\n",
    "        Gasoline.__init__(self,tank_cap)\n",
    "        Electric.__init__(self,chargecap)\n",
    "        \n",
    "\n",
    "prius=Hybrid()\n",
    "# prius.refuel()\n",
    "print(prius.tank)\n",
    "print(prius.charge)\n",
    "prius.recharge()\n",
    "print()\n",
    "print(prius.charge)"
   ]
  },
  {
   "cell_type": "markdown",
   "metadata": {},
   "source": [
    "<h3>super()</h3>\n",
    "<p>\n",
    "Python's built-in super() function provides a shortcut for calling base classes, because it automatically follows Method Resolution Order.\n",
    "\n",
    "In its simplest form with single inheritance, super() can be used in place of the base class name :\n",
    "</p>"
   ]
  },
  {
   "cell_type": "code",
   "execution_count": 20,
   "metadata": {},
   "outputs": [
    {
     "name": "stdout",
     "output_type": "stream",
     "text": [
      "All numbers are even\n",
      "Some numbers are even\n"
     ]
    }
   ],
   "source": [
    "class A:\n",
    "    def truth(self):\n",
    "        return 'All numbers are even'\n",
    "    \n",
    "class B(A):\n",
    "    pass\n",
    "\n",
    "class C(A):\n",
    "    def truth(self):\n",
    "        return 'Some numbers are even'\n",
    "\n",
    "class D(B,C):\n",
    "    def truth(self,num):\n",
    "        if num%2==0:\n",
    "            return A.truth(self)\n",
    "        else:\n",
    "            return super().truth()\n",
    "\n",
    "d=D()\n",
    "print(d.truth(10))\n",
    "print(d.truth(11))\n"
   ]
  },
  {
   "cell_type": "code",
   "execution_count": null,
   "metadata": {
    "collapsed": true
   },
   "outputs": [],
   "source": []
  }
 ],
 "metadata": {
  "kernelspec": {
   "display_name": "Python 3",
   "language": "python",
   "name": "python3"
  },
  "language_info": {
   "codemirror_mode": {
    "name": "ipython",
    "version": 3
   },
   "file_extension": ".py",
   "mimetype": "text/x-python",
   "name": "python",
   "nbconvert_exporter": "python",
   "pygments_lexer": "ipython3",
   "version": "3.6.3"
  }
 },
 "nbformat": 4,
 "nbformat_minor": 2
}
